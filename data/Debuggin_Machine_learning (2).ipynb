{
 "cells": [
  {
   "cell_type": "markdown",
   "id": "a2990f81-5ea8-4f00-9fd1-e59eb82b7259",
   "metadata": {},
   "source": [
    "## Importar datos"
   ]
  },
  {
   "cell_type": "code",
   "id": "68490589-3b69-4891-ab58-092fa4d3a704",
   "metadata": {
    "ExecuteTime": {
     "end_time": "2024-06-18T00:02:19.330540Z",
     "start_time": "2024-06-18T00:02:17.475409Z"
    }
   },
   "source": [
    "import pandas as pd\n",
    "import numpy as np\n",
    "import matplotlib.pyplot as plt\n",
    "from sklearn.linear_model import LogisticRegression, LinearRegression\n",
    "from sklearn.model_selection import train_test_split\n",
    "from sklearn.metrics import confusion_matrix, mean_squared_error\n",
    "import ta\n",
    "from sklearn.ensemble import RandomForestClassifier\n",
    "from sklearn.svm import SVC\n",
    "from xgboost import XGBClassifier\n",
    "from sklearn.metrics import f1_score"
   ],
   "execution_count": 1,
   "outputs": []
  },
  {
   "cell_type": "code",
   "id": "5b7d1095-786e-4f12-b37d-b4fb4dd4e485",
   "metadata": {
    "ExecuteTime": {
     "end_time": "2024-06-18T00:02:19.523736Z",
     "start_time": "2024-06-18T00:02:19.330540Z"
    }
   },
   "source": [
    "from sklearn.metrics import accuracy_score\n",
    "import optuna"
   ],
   "execution_count": 2,
   "outputs": []
  },
  {
   "cell_type": "code",
   "id": "d1ca3f0d-63d2-4780-8352-6adeefd86163",
   "metadata": {
    "ExecuteTime": {
     "end_time": "2024-06-18T00:02:19.529007Z",
     "start_time": "2024-06-18T00:02:19.524929Z"
    }
   },
   "source": [
    "list_of_equity = [\n",
    "    \"aapl_5m_train.csv\",\n",
    "    \"aapl_project_1m_test.csv\",\n",
    "    \"aapl_project_1m_train.csv\",\n",
    "    \"aapl_project_test.csv\",\n",
    "    \"aapl_project_train.csv\",\n",
    "    \"btc_project_1m_test.csv\",\n",
    "    \"btc_project_1m_train.csv\",\n",
    "    \"btc_project_test.csv\",\n",
    "    \"btc_project_train.csv\"\n",
    "]"
   ],
   "execution_count": 3,
   "outputs": []
  },
  {
   "cell_type": "code",
   "id": "c8114d5a-efe6-4e74-9822-cd0d38b6df64",
   "metadata": {
    "ExecuteTime": {
     "end_time": "2024-06-18T00:02:19.551342Z",
     "start_time": "2024-06-18T00:02:19.530480Z"
    }
   },
   "source": [
    "def reading_files(list_of_files : str):\n",
    "    \"\"\"\n",
    "    list of files is going to be a list where all the files need \n",
    "    to be written as a string\n",
    "    \"\"\"\n",
    "\n",
    "    dict_files = dict()\n",
    "    for file in list_of_files:\n",
    "        dict_files[file] = pd.read_csv(file)\n",
    "    return dict_files"
   ],
   "execution_count": 4,
   "outputs": []
  },
  {
   "cell_type": "code",
   "id": "1474b7cf-ba5d-4cb4-bbd3-e393992705e1",
   "metadata": {
    "ExecuteTime": {
     "end_time": "2024-06-18T00:02:21.570540Z",
     "start_time": "2024-06-18T00:02:20.815775Z"
    }
   },
   "source": [
    "files = reading_files(list_of_equity)\n",
    "data = files[\"aapl_project_train.csv\"]\n",
    "data.head()"
   ],
   "execution_count": 5,
   "outputs": []
  },
  {
   "cell_type": "markdown",
   "id": "400763e7-83d3-49ee-81d1-9864f24e90b9",
   "metadata": {},
   "source": [
    "## Indicadores"
   ]
  },
  {
   "cell_type": "code",
   "id": "dad77727-3d36-4e5d-8a67-68f8e029778f",
   "metadata": {
    "ExecuteTime": {
     "end_time": "2024-06-18T00:03:23.511106Z",
     "start_time": "2024-06-18T00:03:23.461981Z"
    }
   },
   "source": [
    "data_clean = data.loc[:, [\"Close\"]]\n",
    "data_clean[\"Y\"] = data_clean.shift(-15)\n",
    "data_clean[\"Close_t1\"] = data.loc[:, [\"Close\"]].shift(1)\n",
    "data_clean[\"Close_t2\"] = data.loc[:, [\"Close\"]].shift(2)\n",
    "data_clean[\"Close_t3\"] = data.loc[:, [\"Close\"]].shift(3)\n",
    "data_clean[\"Close_t4\"] = data.loc[:, [\"Close\"]].shift(4)\n",
    "data_clean[\"Close_t5\"] = data.loc[:, [\"Close\"]].shift(5)\n",
    "data_clean[\"rsi_10\"] = ((ta.momentum.RSIIndicator(data[\"Close\"], window=10)).rsi())\n",
    "data_clean[\"rsi_20\"] = ((ta.momentum.RSIIndicator(data[\"Close\"], window=20)).rsi())\n",
    "data_clean[\"rsi_30\"] = ((ta.momentum.RSIIndicator(data[\"Close\"], window=30)).rsi())\n",
    "data_clean[\"macd_10_24_7\"] = ((ta.trend.MACD(close=data[\"Close\"], window_slow=24, window_fast=10, window_sign=7)).macd())\n",
    "data_clean[\"macd_12_26_9\"] = ((ta.trend.MACD(close=data_clean[\"Close\"], window_slow=26, window_fast=12, window_sign=9)).macd())\n",
    "data_clean[\"macd_5_35_5\"] = ((ta.trend.MACD(close=data_clean[\"Close\"], window_slow=35, window_fast=5, window_sign=5)).macd())\n",
    "\n",
    "### bollinger bands\n",
    "bollinger_20_2 = ta.volatility.BollingerBands(close=data_clean[\"Close\"], window=20, window_dev=2)\n",
    "data_clean[\"bollinger_20_2_hband\"] = bollinger_20_2.bollinger_hband()\n",
    "data_clean[\"bollinger_20_2_lband\"] = bollinger_20_2.bollinger_lband()\n",
    "data_clean[\"bollinger_20_2_mavg\"] = bollinger_20_2.bollinger_mavg()\n",
    "\n",
    "bollinger_10_1_5 = ta.volatility.BollingerBands(close=data_clean[\"Close\"], window=10, window_dev=1.5)\n",
    "data_clean[\"bollinger_10_1_5_hband\"] = bollinger_10_1_5.bollinger_hband()\n",
    "data_clean[\"bollinger_10_1_5_lband\"] = bollinger_10_1_5.bollinger_lband()\n",
    "data_clean[\"bollinger_10_1_5_mavg\"] = bollinger_10_1_5.bollinger_mavg()\n",
    "\n",
    "bollinger_50_2_5 = ta.volatility.BollingerBands(close=data_clean[\"Close\"], window=50, window_dev=2.5)\n",
    "data_clean[\"bollinger_50_2_5_hband\"] = bollinger_50_2_5.bollinger_hband()\n",
    "data_clean[\"bollinger_50_2_5_lband\"] = bollinger_50_2_5.bollinger_lband()\n",
    "data_clean[\"bollinger_50_2_5_mavg\"] = bollinger_50_2_5.bollinger_mavg()\n",
    "data_clean = data_clean.dropna()\n",
    "\n",
    "# data_clean[\"atr_14\"] = (ta.volatility.AverageTrueRange(high=data[\"High\"], low=data[\"Low\"], close=data[\"Close\"], window=14)).average_true_range()\n",
    "# data_clean[\"atr_10\"] = (ta.volatility.AverageTrueRange(high=data[\"High\"], low=data[\"Low\"], close=data[\"Close\"], window=10)).average_true_range()\n",
    "# data_clean[\"atr_20\"] = (ta.volatility.AverageTrueRange(high=data[\"High\"], low=data[\"Low\"], close=data[\"Close\"], window=20)).average_true_range()\n"
   ],
   "execution_count": 7,
   "outputs": []
  },
  {
   "cell_type": "markdown",
   "id": "5a84c88b-3266-4d14-b107-9ba54c3545e0",
   "metadata": {},
   "source": [
    "## Visualización en plotly"
   ]
  },
  {
   "cell_type": "code",
   "id": "4b31d93e-4052-4101-8944-376856ee699d",
   "metadata": {
    "ExecuteTime": {
     "end_time": "2024-06-17T23:59:53.063342Z",
     "start_time": "2024-06-17T23:59:53.053325Z"
    }
   },
   "source": [
    "# import plotly.graph_objs as go\n",
    "# import plotly.io as pio\n",
    "\n",
    "# # Graficar Bandas de Bollinger\n",
    "# fig = go.Figure()\n",
    "\n",
    "# # Graficar el precio de cierre\n",
    "# fig.add_trace(go.Scatter(x=data_clean.index, y=data_clean[\"Close\"], mode='lines', name='Close', line=dict(color='blue')))\n",
    "\n",
    "# # Graficar las Bandas de Bollinger para la configuración 20, 2\n",
    "# fig.add_trace(go.Scatter(x=data_clean.index, y=data_clean[\"bollinger_20_2_hband\"], mode='lines', name='Bollinger 20,2 High Band', line=dict(color='red')))\n",
    "# fig.add_trace(go.Scatter(x=data_clean.index, y=data_clean[\"bollinger_20_2_lband\"], mode='lines', name='Bollinger 20,2 Low Band', line=dict(color='green')))\n",
    "# fig.add_trace(go.Scatter(x=data_clean.index, y=data_clean[\"bollinger_20_2_mavg\"], mode='lines', name='Bollinger 20,2 MAVG', line=dict(color='orange')))\n",
    "\n",
    "# # Graficar las Bandas de Bollinger para la configuración 10, 1.5\n",
    "# fig.add_trace(go.Scatter(x=data_clean.index, y=data_clean[\"bollinger_10_1_5_hband\"], mode='lines', name='Bollinger 10,1.5 High Band', line=dict(color='purple')))\n",
    "# fig.add_trace(go.Scatter(x=data_clean.index, y=data_clean[\"bollinger_10_1_5_lband\"], mode='lines', name='Bollinger 10,1.5 Low Band', line=dict(color='brown')))\n",
    "# fig.add_trace(go.Scatter(x=data_clean.index, y=data_clean[\"bollinger_10_1_5_mavg\"], mode='lines', name='Bollinger 10,1.5 MAVG', line=dict(color='pink')))\n",
    "\n",
    "# # Graficar las Bandas de Bollinger para la configuración 50, 2.5\n",
    "# fig.add_trace(go.Scatter(x=data_clean.index, y=data_clean[\"bollinger_50_2_5_hband\"], mode='lines', name='Bollinger 50,2.5 High Band', line=dict(color='cyan')))\n",
    "# fig.add_trace(go.Scatter(x=data_clean.index, y=data_clean[\"bollinger_50_2_5_lband\"], mode='lines', name='Bollinger 50,2.5 Low Band', line=dict(color='magenta')))\n",
    "# fig.add_trace(go.Scatter(x=data_clean.index, y=data_clean[\"bollinger_50_2_5_mavg\"], mode='lines', name='Bollinger 50,2.5 MAVG', line=dict(color='yellow')))\n",
    "\n",
    "# fig.update_layout(title='Bandas de Bollinger', xaxis_title='Fecha', yaxis_title='Precio', legend_title='Indicadores')\n",
    "# pio.show(fig)\n",
    "\n",
    "# # Graficar ATR\n",
    "# fig_atr = go.Figure()\n",
    "\n",
    "# fig_atr.add_trace(go.Scatter(x=data_clean.index, y=data_clean[\"atr_14\"], mode='lines', name='ATR 14', line=dict(color='blue')))\n",
    "# fig_atr.add_trace(go.Scatter(x=data_clean.index, y=data_clean[\"atr_10\"], mode='lines', name='ATR 10', line=dict(color='red')))\n",
    "# fig_atr.add_trace(go.Scatter(x=data_clean.index, y=data_clean[\"atr_20\"], mode='lines', name='ATR 20', line=dict(color='green')))\n",
    "\n",
    "# fig_atr.update_layout(title='Average True Range (ATR)', xaxis_title='Fecha', yaxis_title='ATR', legend_title='Indicadores')\n",
    "# pio.show(fig_atr)\n"
   ],
   "execution_count": null,
   "outputs": []
  },
  {
   "cell_type": "markdown",
   "id": "08721e31-e5a3-45f5-b8c4-3c2127ef26b6",
   "metadata": {},
   "source": [
    "## Continue"
   ]
  },
  {
   "cell_type": "code",
   "id": "0b25cef8-44f8-4ab2-a376-1f9dca407971",
   "metadata": {
    "scrolled": true,
    "ExecuteTime": {
     "end_time": "2024-06-18T00:03:35.602854Z",
     "start_time": "2024-06-18T00:03:35.579249Z"
    }
   },
   "source": [
    "data_clas = data_clean.drop(\"Y\", axis=1).copy()\n",
    "\n",
    "# Filtrar solo las columnas que contienen al menos un valor NaN\n",
    "columns_with_nan = data_clas.columns[data_clas.isna().any()].tolist()\n",
    "\n",
    "# Crear un nuevo DataFrame solo con las columnas filtradas\n",
    "df_with_nan = data_clas[columns_with_nan]\n",
    "df_with_nan"
   ],
   "execution_count": 8,
   "outputs": []
  },
  {
   "cell_type": "code",
   "id": "3f9d293f-3e39-414b-b1a0-51dd311dc34b",
   "metadata": {
    "ExecuteTime": {
     "end_time": "2024-06-18T00:03:36.477927Z",
     "start_time": "2024-06-18T00:03:36.459181Z"
    }
   },
   "source": [
    "from sklearn.metrics import confusion_matrix\n",
    "def calculate_confusion_matrix_metrics(model, X_train, y_train):\n",
    "    y_pred = model.predict(X_train)\n",
    "\n",
    "    mat = confusion_matrix(y_train, y_pred)\n",
    "    true_negatives = mat[0, 0]\n",
    "    false_negatives = mat[1, 0]\n",
    "    true_positives = mat[1, 1]\n",
    "    false_positives = mat[0, 1]\n",
    "\n",
    "    return {\n",
    "        \"confusion_matrix\": mat,\n",
    "        \"true_negatives\": true_negatives,\n",
    "        \"false_negatives\": false_negatives,\n",
    "        \"true_positives\": true_positives,\n",
    "        \"false_positives\": false_positives\n",
    "    }\n",
    "def fpr(false_positives, true_negatives):\n",
    "    return false_positives / (false_positives + true_negatives)\n"
   ],
   "execution_count": 9,
   "outputs": []
  },
  {
   "cell_type": "markdown",
   "id": "7a1fae4b-26be-4f8a-9af6-9dfa2ef28b5a",
   "metadata": {},
   "source": [
    "## Dividimos el dataset"
   ]
  },
  {
   "cell_type": "code",
   "id": "fdb6933c-75d1-48b5-a54e-a82980dfe139",
   "metadata": {
    "ExecuteTime": {
     "end_time": "2024-06-18T00:03:38.430825Z",
     "start_time": "2024-06-18T00:03:38.412261Z"
    }
   },
   "source": [
    "data_clas[\"Y\"] = data_clas.Close < data_clas.Close.shift(-1)\n",
    "\n",
    "X_train, X_test, y_train, y_test = train_test_split(data_clas.drop(\"Y\", axis=1),\n",
    "                                                    data_clas.Y,\n",
    "                                                    shuffle=False, test_size=0.2)\n",
    "\n",
    "\n"
   ],
   "execution_count": 10,
   "outputs": []
  },
  {
   "cell_type": "code",
   "id": "9eac53cb-5fa5-494b-b8c6-eaba1ff1afca",
   "metadata": {
    "scrolled": true,
    "ExecuteTime": {
     "end_time": "2024-06-18T00:04:41.453633Z",
     "start_time": "2024-06-18T00:03:39.324312Z"
    }
   },
   "source": [
    "classification_model = LogisticRegression().fit(X_train, y_train)\n",
    "\n",
    "logistic_pred = classification_model.predict(X_train)\n",
    "\n",
    "logistic_score = classification_model.score(X_train, y_train)\n",
    "\n",
    "\n",
    "### Classification V2\n",
    "\n",
    "\n",
    "\n",
    "ran_forest = RandomForestClassifier().fit(X_train,y_train)\n",
    "svc = SVC(C=500, max_iter=10_000).fit(X_train,y_train)\n",
    "xgb = XGBClassifier().fit(X_train,y_train)\n",
    "\n",
    "## F1 score\n",
    "\n",
    "### Regresión Lógistica\n",
    "f1_score_logistic = f1_score(y_train, classification_model.predict(X_train))\n",
    "f1_score_RanFore =  f1_score(y_train, ran_forest.predict(X_train))\n",
    "f1_score_svc = f1_score(y_train, svc.predict(X_train))\n",
    "f1_score_xgb =  f1_score(y_train, xgb.predict(X_train))\n",
    "\n",
    "\n",
    "\n",
    "metrics_svc = calculate_confusion_matrix_metrics(ran_forest, X_train, y_train)\n",
    "metrics_xgb = calculate_confusion_matrix_metrics(xgb, X_train, y_train)\n",
    "\n",
    "fpr_svc = fpr(metrics_svc[\"false_positives\"], metrics_svc[\"true_negatives\"])\n",
    "fpr_xgb = fpr(metrics_xgb[\"false_positives\"], metrics_xgb[\"true_negatives\"])\n"
   ],
   "execution_count": 11,
   "outputs": []
  },
  {
   "cell_type": "markdown",
   "id": "944eb2cf-b430-4e5e-a4e6-0b62339b9cce",
   "metadata": {},
   "source": "## Optimizando XGBoost"
  },
  {
   "cell_type": "code",
   "id": "6d1de01a-fbe2-4714-b93d-46f3c310d571",
   "metadata": {
    "ExecuteTime": {
     "end_time": "2024-06-18T00:11:41.878401Z",
     "start_time": "2024-06-18T00:10:18.823902Z"
    }
   },
   "source": [
    "# Definir la función objetivo\n",
    "def objective(trial):\n",
    "#     # Definir el rango de valores para los hiperparámetros\n",
    "    n_estimators = trial.suggest_int('n_estimators', 100, 1000)\n",
    "    max_depth = trial.suggest_categorical('max_depth', [3, 5, 7, 9, 12, 15])\n",
    "    max_leaves = trial.suggest_int('max_leaves', 2, 100)\n",
    "    learning_rate = trial.suggest_float('learning_rate', 1e-4, 1e-1, log=True)\n",
    "    booster = trial.suggest_categorical('kernel', [\"Linear\", \"Poly\", \"RBF\"])\n",
    "    gamma = trial.suggest_float('gamma', 1e-10, 1e1, log=True)\n",
    "    reg_lambda = trial.suggest_float('reg_lambda', 1e-5, 1e2, log=True)\n",
    "\n",
    "   \n",
    "    # Crear el modelo XBGoost\n",
    "    model = XGBClassifier().fit(X_train,y_train)\n",
    "    \n",
    "    # Entrenar el modelo\n",
    "    model.fit(X_train, y_train)\n",
    "    \n",
    "    # Evaluar el modelo\n",
    "    y_pred = model.predict(X_test)\n",
    "     # Calculate confusion matrix\n",
    "    tn, fp, fn, tp = confusion_matrix(y_test, y_pred).ravel()\n",
    "    \n",
    "    # Calculate FPR\n",
    "    fpr = fp / (fp + tn)\n",
    "    \n",
    "    return fpr\n",
    "\n",
    "# Crear un objeto de estudio\n",
    "study = optuna.create_study(direction=\"minimize\")\n",
    "\n",
    "# Ejecutar el proceso de optimización\n",
    "study.optimize(objective, n_trials=100)\n",
    "\n",
    "\n",
    "# Mostrar los mejores parámetros\n",
    "#saved_study = optuna.load_study(study_name=study, storage=storage_url)\n",
    "#storage_url = \"sqlite:///example.db\"\n",
    "print(\"Best trial:\", study.best_trial.number)\n",
    "print(\"Best value:\", study.best_trial.value)\n",
    "print(\"Best hyperparameters:\", study.best_params)"
   ],
   "execution_count": 19,
   "outputs": []
  },
  {
   "cell_type": "code",
   "id": "a8f3c50f-658e-4080-b20c-9fbb182cd910",
   "metadata": {
    "ExecuteTime": {
     "end_time": "2024-06-18T00:06:22.976771Z",
     "start_time": "2024-06-18T00:06:22.964660Z"
    }
   },
   "source": "",
   "execution_count": 15,
   "outputs": []
  },
  {
   "cell_type": "code",
   "id": "9f8e28ef-1744-4997-b1ae-94f4ad1fd626",
   "metadata": {
    "ExecuteTime": {
     "end_time": "2024-06-17T23:59:53.095083Z",
     "start_time": "2024-06-17T23:59:53.095083Z"
    }
   },
   "source": [],
   "execution_count": null,
   "outputs": []
  },
  {
   "cell_type": "code",
   "id": "1965279f-d23a-4fbe-b73e-86d9feea94cb",
   "metadata": {},
   "source": [],
   "execution_count": null,
   "outputs": []
  },
  {
   "cell_type": "code",
   "id": "ca7250a7-a80b-4398-addc-197eaa13f6e4",
   "metadata": {
    "ExecuteTime": {
     "end_time": "2024-06-17T23:59:53.111007Z",
     "start_time": "2024-06-17T23:59:53.095083Z"
    }
   },
   "source": [],
   "execution_count": null,
   "outputs": []
  },
  {
   "cell_type": "code",
   "id": "dbe6e9a7-06b1-4d3b-abee-f5c00b8e4b74",
   "metadata": {},
   "source": [],
   "execution_count": null,
   "outputs": []
  }
 ],
 "metadata": {
  "kernelspec": {
   "display_name": "Python 3 (ipykernel)",
   "language": "python",
   "name": "python3"
  },
  "language_info": {
   "codemirror_mode": {
    "name": "ipython",
    "version": 3
   },
   "file_extension": ".py",
   "mimetype": "text/x-python",
   "name": "python",
   "nbconvert_exporter": "python",
   "pygments_lexer": "ipython3",
   "version": "3.12.3"
  }
 },
 "nbformat": 4,
 "nbformat_minor": 5
}
