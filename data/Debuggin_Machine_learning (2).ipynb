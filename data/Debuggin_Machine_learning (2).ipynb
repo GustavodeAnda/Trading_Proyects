{
 "cells": [
  {
   "cell_type": "markdown",
   "id": "a2990f81-5ea8-4f00-9fd1-e59eb82b7259",
   "metadata": {},
   "source": [
    "## Importar datos"
   ]
  },
  {
   "cell_type": "code",
   "id": "68490589-3b69-4891-ab58-092fa4d3a704",
   "metadata": {
    "ExecuteTime": {
     "end_time": "2024-06-18T00:02:19.330540Z",
     "start_time": "2024-06-18T00:02:17.475409Z"
    }
   },
   "source": [
    "import pandas as pd\n",
    "import numpy as np\n",
    "import matplotlib.pyplot as plt\n",
    "from sklearn.linear_model import LogisticRegression, LinearRegression\n",
    "from sklearn.model_selection import train_test_split\n",
    "from sklearn.metrics import confusion_matrix, mean_squared_error\n",
    "import ta\n",
    "from sklearn.ensemble import RandomForestClassifier\n",
    "from sklearn.svm import SVC\n",
    "from xgboost import XGBClassifier\n",
    "from sklearn.metrics import f1_score"
   ],
   "outputs": [],
   "execution_count": 1
  },
  {
   "cell_type": "code",
   "id": "5b7d1095-786e-4f12-b37d-b4fb4dd4e485",
   "metadata": {
    "ExecuteTime": {
     "end_time": "2024-06-18T00:02:19.523736Z",
     "start_time": "2024-06-18T00:02:19.330540Z"
    }
   },
   "source": [
    "from sklearn.metrics import accuracy_score\n",
    "import optuna"
   ],
   "outputs": [],
   "execution_count": 2
  },
  {
   "cell_type": "code",
   "id": "d1ca3f0d-63d2-4780-8352-6adeefd86163",
   "metadata": {
    "ExecuteTime": {
     "end_time": "2024-06-18T00:02:19.529007Z",
     "start_time": "2024-06-18T00:02:19.524929Z"
    }
   },
   "source": [
    "list_of_equity = [\n",
    "    \"aapl_5m_train.csv\",\n",
    "    \"aapl_project_1m_test.csv\",\n",
    "    \"aapl_project_1m_train.csv\",\n",
    "    \"aapl_project_test.csv\",\n",
    "    \"aapl_project_train.csv\",\n",
    "    \"btc_project_1m_test.csv\",\n",
    "    \"btc_project_1m_train.csv\",\n",
    "    \"btc_project_test.csv\",\n",
    "    \"btc_project_train.csv\"\n",
    "]"
   ],
   "outputs": [],
   "execution_count": 3
  },
  {
   "cell_type": "code",
   "id": "c8114d5a-efe6-4e74-9822-cd0d38b6df64",
   "metadata": {
    "ExecuteTime": {
     "end_time": "2024-06-18T00:02:19.551342Z",
     "start_time": "2024-06-18T00:02:19.530480Z"
    }
   },
   "source": [
    "def reading_files(list_of_files : str):\n",
    "    \"\"\"\n",
    "    list of files is going to be a list where all the files need \n",
    "    to be written as a string\n",
    "    \"\"\"\n",
    "\n",
    "    dict_files = dict()\n",
    "    for file in list_of_files:\n",
    "        dict_files[file] = pd.read_csv(file)\n",
    "    return dict_files"
   ],
   "outputs": [],
   "execution_count": 4
  },
  {
   "cell_type": "code",
   "id": "1474b7cf-ba5d-4cb4-bbd3-e393992705e1",
   "metadata": {
    "ExecuteTime": {
     "end_time": "2024-06-18T00:02:21.570540Z",
     "start_time": "2024-06-18T00:02:20.815775Z"
    }
   },
   "source": [
    "files = reading_files(list_of_equity)\n",
    "data = files[\"aapl_project_train.csv\"]\n",
    "data.head()"
   ],
   "outputs": [
    {
     "data": {
      "text/plain": [
       "    Timestamp  Gmtoffset             Datetime        Open        High  \\\n",
       "0  1654090200          0  2022-06-01 13:30:00  149.899993  150.600006   \n",
       "1  1654090500          0  2022-06-01 13:35:00  150.529998  151.080001   \n",
       "2  1654090800          0  2022-06-01 13:40:00  150.500000  150.889999   \n",
       "3  1654091100          0  2022-06-01 13:45:00  150.740005  151.520004   \n",
       "4  1654091400          0  2022-06-01 13:50:00  150.869995  151.509994   \n",
       "\n",
       "          Low       Close     Volume  \n",
       "0  149.880004  150.539993  4474349.0  \n",
       "1  150.289993  150.500000  2181281.0  \n",
       "2  150.270004  150.729995  1622128.0  \n",
       "3  150.500000  150.860000  2034927.0  \n",
       "4  150.759994  151.389404  1379313.0  "
      ],
      "text/html": [
       "<div>\n",
       "<style scoped>\n",
       "    .dataframe tbody tr th:only-of-type {\n",
       "        vertical-align: middle;\n",
       "    }\n",
       "\n",
       "    .dataframe tbody tr th {\n",
       "        vertical-align: top;\n",
       "    }\n",
       "\n",
       "    .dataframe thead th {\n",
       "        text-align: right;\n",
       "    }\n",
       "</style>\n",
       "<table border=\"1\" class=\"dataframe\">\n",
       "  <thead>\n",
       "    <tr style=\"text-align: right;\">\n",
       "      <th></th>\n",
       "      <th>Timestamp</th>\n",
       "      <th>Gmtoffset</th>\n",
       "      <th>Datetime</th>\n",
       "      <th>Open</th>\n",
       "      <th>High</th>\n",
       "      <th>Low</th>\n",
       "      <th>Close</th>\n",
       "      <th>Volume</th>\n",
       "    </tr>\n",
       "  </thead>\n",
       "  <tbody>\n",
       "    <tr>\n",
       "      <th>0</th>\n",
       "      <td>1654090200</td>\n",
       "      <td>0</td>\n",
       "      <td>2022-06-01 13:30:00</td>\n",
       "      <td>149.899993</td>\n",
       "      <td>150.600006</td>\n",
       "      <td>149.880004</td>\n",
       "      <td>150.539993</td>\n",
       "      <td>4474349.0</td>\n",
       "    </tr>\n",
       "    <tr>\n",
       "      <th>1</th>\n",
       "      <td>1654090500</td>\n",
       "      <td>0</td>\n",
       "      <td>2022-06-01 13:35:00</td>\n",
       "      <td>150.529998</td>\n",
       "      <td>151.080001</td>\n",
       "      <td>150.289993</td>\n",
       "      <td>150.500000</td>\n",
       "      <td>2181281.0</td>\n",
       "    </tr>\n",
       "    <tr>\n",
       "      <th>2</th>\n",
       "      <td>1654090800</td>\n",
       "      <td>0</td>\n",
       "      <td>2022-06-01 13:40:00</td>\n",
       "      <td>150.500000</td>\n",
       "      <td>150.889999</td>\n",
       "      <td>150.270004</td>\n",
       "      <td>150.729995</td>\n",
       "      <td>1622128.0</td>\n",
       "    </tr>\n",
       "    <tr>\n",
       "      <th>3</th>\n",
       "      <td>1654091100</td>\n",
       "      <td>0</td>\n",
       "      <td>2022-06-01 13:45:00</td>\n",
       "      <td>150.740005</td>\n",
       "      <td>151.520004</td>\n",
       "      <td>150.500000</td>\n",
       "      <td>150.860000</td>\n",
       "      <td>2034927.0</td>\n",
       "    </tr>\n",
       "    <tr>\n",
       "      <th>4</th>\n",
       "      <td>1654091400</td>\n",
       "      <td>0</td>\n",
       "      <td>2022-06-01 13:50:00</td>\n",
       "      <td>150.869995</td>\n",
       "      <td>151.509994</td>\n",
       "      <td>150.759994</td>\n",
       "      <td>151.389404</td>\n",
       "      <td>1379313.0</td>\n",
       "    </tr>\n",
       "  </tbody>\n",
       "</table>\n",
       "</div>"
      ]
     },
     "execution_count": 5,
     "metadata": {},
     "output_type": "execute_result"
    }
   ],
   "execution_count": 5
  },
  {
   "cell_type": "markdown",
   "id": "400763e7-83d3-49ee-81d1-9864f24e90b9",
   "metadata": {},
   "source": [
    "## Indicadores"
   ]
  },
  {
   "cell_type": "code",
   "id": "dad77727-3d36-4e5d-8a67-68f8e029778f",
   "metadata": {
    "ExecuteTime": {
     "end_time": "2024-06-18T00:03:23.511106Z",
     "start_time": "2024-06-18T00:03:23.461981Z"
    }
   },
   "source": [
    "data_clean = data.loc[:, [\"Close\"]]\n",
    "data_clean[\"Y\"] = data_clean.shift(-15)\n",
    "data_clean[\"Close_t1\"] = data.loc[:, [\"Close\"]].shift(1)\n",
    "data_clean[\"Close_t2\"] = data.loc[:, [\"Close\"]].shift(2)\n",
    "data_clean[\"Close_t3\"] = data.loc[:, [\"Close\"]].shift(3)\n",
    "data_clean[\"Close_t4\"] = data.loc[:, [\"Close\"]].shift(4)\n",
    "data_clean[\"Close_t5\"] = data.loc[:, [\"Close\"]].shift(5)\n",
    "data_clean[\"rsi_10\"] = ((ta.momentum.RSIIndicator(data[\"Close\"], window=10)).rsi())\n",
    "data_clean[\"rsi_20\"] = ((ta.momentum.RSIIndicator(data[\"Close\"], window=20)).rsi())\n",
    "data_clean[\"rsi_30\"] = ((ta.momentum.RSIIndicator(data[\"Close\"], window=30)).rsi())\n",
    "data_clean[\"macd_10_24_7\"] = ((ta.trend.MACD(close=data[\"Close\"], window_slow=24, window_fast=10, window_sign=7)).macd())\n",
    "data_clean[\"macd_12_26_9\"] = ((ta.trend.MACD(close=data_clean[\"Close\"], window_slow=26, window_fast=12, window_sign=9)).macd())\n",
    "data_clean[\"macd_5_35_5\"] = ((ta.trend.MACD(close=data_clean[\"Close\"], window_slow=35, window_fast=5, window_sign=5)).macd())\n",
    "\n",
    "### bollinger bands\n",
    "bollinger_20_2 = ta.volatility.BollingerBands(close=data_clean[\"Close\"], window=20, window_dev=2)\n",
    "data_clean[\"bollinger_20_2_hband\"] = bollinger_20_2.bollinger_hband()\n",
    "data_clean[\"bollinger_20_2_lband\"] = bollinger_20_2.bollinger_lband()\n",
    "data_clean[\"bollinger_20_2_mavg\"] = bollinger_20_2.bollinger_mavg()\n",
    "\n",
    "bollinger_10_1_5 = ta.volatility.BollingerBands(close=data_clean[\"Close\"], window=10, window_dev=1.5)\n",
    "data_clean[\"bollinger_10_1_5_hband\"] = bollinger_10_1_5.bollinger_hband()\n",
    "data_clean[\"bollinger_10_1_5_lband\"] = bollinger_10_1_5.bollinger_lband()\n",
    "data_clean[\"bollinger_10_1_5_mavg\"] = bollinger_10_1_5.bollinger_mavg()\n",
    "\n",
    "bollinger_50_2_5 = ta.volatility.BollingerBands(close=data_clean[\"Close\"], window=50, window_dev=2.5)\n",
    "data_clean[\"bollinger_50_2_5_hband\"] = bollinger_50_2_5.bollinger_hband()\n",
    "data_clean[\"bollinger_50_2_5_lband\"] = bollinger_50_2_5.bollinger_lband()\n",
    "data_clean[\"bollinger_50_2_5_mavg\"] = bollinger_50_2_5.bollinger_mavg()\n",
    "data_clean = data_clean.dropna()\n",
    "\n",
    "# data_clean[\"atr_14\"] = (ta.volatility.AverageTrueRange(high=data[\"High\"], low=data[\"Low\"], close=data[\"Close\"], window=14)).average_true_range()\n",
    "# data_clean[\"atr_10\"] = (ta.volatility.AverageTrueRange(high=data[\"High\"], low=data[\"Low\"], close=data[\"Close\"], window=10)).average_true_range()\n",
    "# data_clean[\"atr_20\"] = (ta.volatility.AverageTrueRange(high=data[\"High\"], low=data[\"Low\"], close=data[\"Close\"], window=20)).average_true_range()\n"
   ],
   "outputs": [],
   "execution_count": 7
  },
  {
   "cell_type": "markdown",
   "id": "5a84c88b-3266-4d14-b107-9ba54c3545e0",
   "metadata": {},
   "source": [
    "## Visualización en plotly"
   ]
  },
  {
   "cell_type": "code",
   "id": "4b31d93e-4052-4101-8944-376856ee699d",
   "metadata": {
    "ExecuteTime": {
     "end_time": "2024-06-17T23:59:53.063342Z",
     "start_time": "2024-06-17T23:59:53.053325Z"
    }
   },
   "source": [
    "# import plotly.graph_objs as go\n",
    "# import plotly.io as pio\n",
    "\n",
    "# # Graficar Bandas de Bollinger\n",
    "# fig = go.Figure()\n",
    "\n",
    "# # Graficar el precio de cierre\n",
    "# fig.add_trace(go.Scatter(x=data_clean.index, y=data_clean[\"Close\"], mode='lines', name='Close', line=dict(color='blue')))\n",
    "\n",
    "# # Graficar las Bandas de Bollinger para la configuración 20, 2\n",
    "# fig.add_trace(go.Scatter(x=data_clean.index, y=data_clean[\"bollinger_20_2_hband\"], mode='lines', name='Bollinger 20,2 High Band', line=dict(color='red')))\n",
    "# fig.add_trace(go.Scatter(x=data_clean.index, y=data_clean[\"bollinger_20_2_lband\"], mode='lines', name='Bollinger 20,2 Low Band', line=dict(color='green')))\n",
    "# fig.add_trace(go.Scatter(x=data_clean.index, y=data_clean[\"bollinger_20_2_mavg\"], mode='lines', name='Bollinger 20,2 MAVG', line=dict(color='orange')))\n",
    "\n",
    "# # Graficar las Bandas de Bollinger para la configuración 10, 1.5\n",
    "# fig.add_trace(go.Scatter(x=data_clean.index, y=data_clean[\"bollinger_10_1_5_hband\"], mode='lines', name='Bollinger 10,1.5 High Band', line=dict(color='purple')))\n",
    "# fig.add_trace(go.Scatter(x=data_clean.index, y=data_clean[\"bollinger_10_1_5_lband\"], mode='lines', name='Bollinger 10,1.5 Low Band', line=dict(color='brown')))\n",
    "# fig.add_trace(go.Scatter(x=data_clean.index, y=data_clean[\"bollinger_10_1_5_mavg\"], mode='lines', name='Bollinger 10,1.5 MAVG', line=dict(color='pink')))\n",
    "\n",
    "# # Graficar las Bandas de Bollinger para la configuración 50, 2.5\n",
    "# fig.add_trace(go.Scatter(x=data_clean.index, y=data_clean[\"bollinger_50_2_5_hband\"], mode='lines', name='Bollinger 50,2.5 High Band', line=dict(color='cyan')))\n",
    "# fig.add_trace(go.Scatter(x=data_clean.index, y=data_clean[\"bollinger_50_2_5_lband\"], mode='lines', name='Bollinger 50,2.5 Low Band', line=dict(color='magenta')))\n",
    "# fig.add_trace(go.Scatter(x=data_clean.index, y=data_clean[\"bollinger_50_2_5_mavg\"], mode='lines', name='Bollinger 50,2.5 MAVG', line=dict(color='yellow')))\n",
    "\n",
    "# fig.update_layout(title='Bandas de Bollinger', xaxis_title='Fecha', yaxis_title='Precio', legend_title='Indicadores')\n",
    "# pio.show(fig)\n",
    "\n",
    "# # Graficar ATR\n",
    "# fig_atr = go.Figure()\n",
    "\n",
    "# fig_atr.add_trace(go.Scatter(x=data_clean.index, y=data_clean[\"atr_14\"], mode='lines', name='ATR 14', line=dict(color='blue')))\n",
    "# fig_atr.add_trace(go.Scatter(x=data_clean.index, y=data_clean[\"atr_10\"], mode='lines', name='ATR 10', line=dict(color='red')))\n",
    "# fig_atr.add_trace(go.Scatter(x=data_clean.index, y=data_clean[\"atr_20\"], mode='lines', name='ATR 20', line=dict(color='green')))\n",
    "\n",
    "# fig_atr.update_layout(title='Average True Range (ATR)', xaxis_title='Fecha', yaxis_title='ATR', legend_title='Indicadores')\n",
    "# pio.show(fig_atr)\n"
   ],
   "outputs": [],
   "execution_count": null
  },
  {
   "cell_type": "markdown",
   "id": "08721e31-e5a3-45f5-b8c4-3c2127ef26b6",
   "metadata": {},
   "source": [
    "## Continue"
   ]
  },
  {
   "cell_type": "code",
   "id": "0b25cef8-44f8-4ab2-a376-1f9dca407971",
   "metadata": {
    "scrolled": true,
    "ExecuteTime": {
     "end_time": "2024-06-18T00:03:35.602854Z",
     "start_time": "2024-06-18T00:03:35.579249Z"
    }
   },
   "source": [
    "data_clas = data_clean.drop(\"Y\", axis=1).copy()\n",
    "\n",
    "# Filtrar solo las columnas que contienen al menos un valor NaN\n",
    "columns_with_nan = data_clas.columns[data_clas.isna().any()].tolist()\n",
    "\n",
    "# Crear un nuevo DataFrame solo con las columnas filtradas\n",
    "df_with_nan = data_clas[columns_with_nan]\n",
    "df_with_nan"
   ],
   "outputs": [
    {
     "data": {
      "text/plain": [
       "Empty DataFrame\n",
       "Columns: []\n",
       "Index: [49, 50, 51, 52, 53, 54, 55, 56, 57, 58, 59, 60, 61, 62, 63, 64, 65, 66, 67, 68, 69, 70, 71, 72, 73, 74, 75, 76, 77, 78, 79, 80, 81, 82, 83, 84, 85, 86, 87, 88, 89, 90, 91, 92, 93, 94, 95, 96, 97, 98, 99, 100, 101, 102, 103, 104, 105, 106, 107, 108, 109, 110, 111, 112, 113, 114, 115, 116, 117, 118, 119, 120, 121, 122, 123, 124, 125, 126, 127, 128, 129, 130, 131, 132, 133, 134, 135, 136, 137, 138, 139, 140, 141, 142, 143, 144, 145, 146, 147, 148, ...]\n",
       "\n",
       "[31112 rows x 0 columns]"
      ],
      "text/html": [
       "<div>\n",
       "<style scoped>\n",
       "    .dataframe tbody tr th:only-of-type {\n",
       "        vertical-align: middle;\n",
       "    }\n",
       "\n",
       "    .dataframe tbody tr th {\n",
       "        vertical-align: top;\n",
       "    }\n",
       "\n",
       "    .dataframe thead th {\n",
       "        text-align: right;\n",
       "    }\n",
       "</style>\n",
       "<table border=\"1\" class=\"dataframe\">\n",
       "  <thead>\n",
       "    <tr style=\"text-align: right;\">\n",
       "      <th></th>\n",
       "    </tr>\n",
       "  </thead>\n",
       "  <tbody>\n",
       "    <tr>\n",
       "      <th>49</th>\n",
       "    </tr>\n",
       "    <tr>\n",
       "      <th>50</th>\n",
       "    </tr>\n",
       "    <tr>\n",
       "      <th>51</th>\n",
       "    </tr>\n",
       "    <tr>\n",
       "      <th>52</th>\n",
       "    </tr>\n",
       "    <tr>\n",
       "      <th>53</th>\n",
       "    </tr>\n",
       "    <tr>\n",
       "      <th>...</th>\n",
       "    </tr>\n",
       "    <tr>\n",
       "      <th>31315</th>\n",
       "    </tr>\n",
       "    <tr>\n",
       "      <th>31316</th>\n",
       "    </tr>\n",
       "    <tr>\n",
       "      <th>31317</th>\n",
       "    </tr>\n",
       "    <tr>\n",
       "      <th>31318</th>\n",
       "    </tr>\n",
       "    <tr>\n",
       "      <th>31319</th>\n",
       "    </tr>\n",
       "  </tbody>\n",
       "</table>\n",
       "<p>31112 rows × 0 columns</p>\n",
       "</div>"
      ]
     },
     "execution_count": 8,
     "metadata": {},
     "output_type": "execute_result"
    }
   ],
   "execution_count": 8
  },
  {
   "cell_type": "code",
   "id": "3f9d293f-3e39-414b-b1a0-51dd311dc34b",
   "metadata": {
    "ExecuteTime": {
     "end_time": "2024-06-18T00:03:36.477927Z",
     "start_time": "2024-06-18T00:03:36.459181Z"
    }
   },
   "source": [
    "from sklearn.metrics import confusion_matrix\n",
    "def calculate_confusion_matrix_metrics(model, X_train, y_train):\n",
    "    y_pred = model.predict(X_train)\n",
    "\n",
    "    mat = confusion_matrix(y_train, y_pred)\n",
    "    true_negatives = mat[0, 0]\n",
    "    false_negatives = mat[1, 0]\n",
    "    true_positives = mat[1, 1]\n",
    "    false_positives = mat[0, 1]\n",
    "\n",
    "    return {\n",
    "        \"confusion_matrix\": mat,\n",
    "        \"true_negatives\": true_negatives,\n",
    "        \"false_negatives\": false_negatives,\n",
    "        \"true_positives\": true_positives,\n",
    "        \"false_positives\": false_positives\n",
    "    }\n",
    "def fpr(false_positives, true_negatives):\n",
    "    return false_positives / (false_positives + true_negatives)\n"
   ],
   "outputs": [],
   "execution_count": 9
  },
  {
   "cell_type": "markdown",
   "id": "7a1fae4b-26be-4f8a-9af6-9dfa2ef28b5a",
   "metadata": {},
   "source": [
    "## Dividimos el dataset"
   ]
  },
  {
   "cell_type": "code",
   "id": "fdb6933c-75d1-48b5-a54e-a82980dfe139",
   "metadata": {
    "ExecuteTime": {
     "end_time": "2024-06-18T00:03:38.430825Z",
     "start_time": "2024-06-18T00:03:38.412261Z"
    }
   },
   "source": [
    "data_clas[\"Y\"] = data_clas.Close < data_clas.Close.shift(-1)\n",
    "\n",
    "X_train, X_test, y_train, y_test = train_test_split(data_clas.drop(\"Y\", axis=1),\n",
    "                                                    data_clas.Y,\n",
    "                                                    shuffle=False, test_size=0.2)\n",
    "\n",
    "\n"
   ],
   "outputs": [],
   "execution_count": 10
  },
  {
   "cell_type": "code",
   "id": "9eac53cb-5fa5-494b-b8c6-eaba1ff1afca",
   "metadata": {
    "scrolled": true,
    "ExecuteTime": {
     "end_time": "2024-06-18T00:04:41.453633Z",
     "start_time": "2024-06-18T00:03:39.324312Z"
    }
   },
   "source": [
    "classification_model = LogisticRegression().fit(X_train, y_train)\n",
    "\n",
    "logistic_pred = classification_model.predict(X_train)\n",
    "\n",
    "logistic_score = classification_model.score(X_train, y_train)\n",
    "\n",
    "\n",
    "### Classification V2\n",
    "\n",
    "\n",
    "\n",
    "ran_forest = RandomForestClassifier().fit(X_train,y_train)\n",
    "svc = SVC(C=500, max_iter=10_000).fit(X_train,y_train)\n",
    "xgb = XGBClassifier().fit(X_train,y_train)\n",
    "\n",
    "## F1 score\n",
    "\n",
    "### Regresión Lógistica\n",
    "f1_score_logistic = f1_score(y_train, classification_model.predict(X_train))\n",
    "f1_score_RanFore =  f1_score(y_train, ran_forest.predict(X_train))\n",
    "f1_score_svc = f1_score(y_train, svc.predict(X_train))\n",
    "f1_score_xgb =  f1_score(y_train, xgb.predict(X_train))\n",
    "\n",
    "\n",
    "\n",
    "metrics_svc = calculate_confusion_matrix_metrics(ran_forest, X_train, y_train)\n",
    "metrics_xgb = calculate_confusion_matrix_metrics(xgb, X_train, y_train)\n",
    "\n",
    "fpr_svc = fpr(metrics_svc[\"false_positives\"], metrics_svc[\"true_negatives\"])\n",
    "fpr_xgb = fpr(metrics_xgb[\"false_positives\"], metrics_xgb[\"true_negatives\"])\n"
   ],
   "outputs": [
    {
     "name": "stderr",
     "output_type": "stream",
     "text": [
      "C:\\Users\\sebmg\\OneDrive\\Documentos\\GitHub\\official_second_proyect\\venv\\Lib\\site-packages\\sklearn\\linear_model\\_logistic.py:469: ConvergenceWarning: lbfgs failed to converge (status=1):\n",
      "STOP: TOTAL NO. of ITERATIONS REACHED LIMIT.\n",
      "\n",
      "Increase the number of iterations (max_iter) or scale the data as shown in:\n",
      "    https://scikit-learn.org/stable/modules/preprocessing.html\n",
      "Please also refer to the documentation for alternative solver options:\n",
      "    https://scikit-learn.org/stable/modules/linear_model.html#logistic-regression\n",
      "  n_iter_i = _check_optimize_result(\n",
      "C:\\Users\\sebmg\\OneDrive\\Documentos\\GitHub\\official_second_proyect\\venv\\Lib\\site-packages\\sklearn\\svm\\_base.py:297: ConvergenceWarning: Solver terminated early (max_iter=10000).  Consider pre-processing your data with StandardScaler or MinMaxScaler.\n",
      "  warnings.warn(\n"
     ]
    }
   ],
   "execution_count": 11
  },
  {
   "cell_type": "markdown",
   "id": "944eb2cf-b430-4e5e-a4e6-0b62339b9cce",
   "metadata": {},
   "source": "## Optimizando XGBoost"
  },
  {
   "cell_type": "code",
   "id": "6d1de01a-fbe2-4714-b93d-46f3c310d571",
   "metadata": {
    "ExecuteTime": {
     "end_time": "2024-06-18T00:11:41.878401Z",
     "start_time": "2024-06-18T00:10:18.823902Z"
    }
   },
   "source": [
    "# Definir la función objetivo\n",
    "def objective(trial):\n",
    "#     # Definir el rango de valores para los hiperparámetros\n",
    "    n_estimators = trial.suggest_int('n_estimators', 100, 1000)\n",
    "    max_depth = trial.suggest_categorical('max_depth', [3, 5, 7, 9, 12, 15])\n",
    "    max_leaves = trial.suggest_int('max_leaves', 2, 100)\n",
    "    learning_rate = trial.suggest_float('learning_rate', 1e-4, 1e-1, log=True)\n",
    "    booster = trial.suggest_categorical('kernel', [\"Linear\", \"Poly\", \"RBF\"])\n",
    "    gamma = trial.suggest_float('gamma', 1e-10, 1e1, log=True)\n",
    "    reg_lambda = trial.suggest_float('reg_lambda', 1e-5, 1e2, log=True)\n",
    "\n",
    "   \n",
    "    # Crear el modelo XBGoost\n",
    "    model = XGBClassifier().fit(X_train,y_train)\n",
    "    \n",
    "    # Entrenar el modelo\n",
    "    model.fit(X_train, y_train)\n",
    "    \n",
    "    # Evaluar el modelo\n",
    "    y_pred = model.predict(X_test)\n",
    "     # Calculate confusion matrix\n",
    "    tn, fp, fn, tp = confusion_matrix(y_test, y_pred).ravel()\n",
    "    \n",
    "    # Calculate FPR\n",
    "    fpr = fp / (fp + tn)\n",
    "    \n",
    "    return fpr\n",
    "\n",
    "# Crear un objeto de estudio\n",
    "study = optuna.create_study(direction=\"minimize\")\n",
    "\n",
    "# Ejecutar el proceso de optimización\n",
    "study.optimize(objective, n_trials=100)\n",
    "\n",
    "\n",
    "# Mostrar los mejores parámetros\n",
    "#saved_study = optuna.load_study(study_name=study, storage=storage_url)\n",
    "#storage_url = \"sqlite:///example.db\"\n",
    "print(\"Best trial:\", study.best_trial.number)\n",
    "print(\"Best value:\", study.best_trial.value)\n",
    "print(\"Best hyperparameters:\", study.best_params)"
   ],
   "outputs": [
    {
     "name": "stderr",
     "output_type": "stream",
     "text": [
      "[I 2024-06-17 18:10:18,823] A new study created in memory with name: no-name-83cac74d-614a-4e5a-9537-43a596c91f11\n",
      "[I 2024-06-17 18:10:19,545] Trial 0 finished with value: 0.5308682733575437 and parameters: {'n_estimators': 195, 'max_depth': 9, 'max_leaves': 10, 'learning_rate': 0.0037721485022271656, 'kernel': 'RBF', 'gamma': 2.6148995723694972e-06, 'reg_lambda': 0.7442429929053306}. Best is trial 0 with value: 0.5308682733575437.\n",
      "[I 2024-06-17 18:10:20,083] Trial 1 finished with value: 0.5308682733575437 and parameters: {'n_estimators': 984, 'max_depth': 3, 'max_leaves': 62, 'learning_rate': 0.025662957079463377, 'kernel': 'Poly', 'gamma': 2.816211049155157e-10, 'reg_lambda': 21.834594995805723}. Best is trial 0 with value: 0.5308682733575437.\n",
      "[I 2024-06-17 18:10:20,618] Trial 2 finished with value: 0.5308682733575437 and parameters: {'n_estimators': 681, 'max_depth': 9, 'max_leaves': 23, 'learning_rate': 0.0006094857383622608, 'kernel': 'Poly', 'gamma': 0.006725208922898479, 'reg_lambda': 1.5115459906733701}. Best is trial 0 with value: 0.5308682733575437.\n",
      "[I 2024-06-17 18:10:21,078] Trial 3 finished with value: 0.5308682733575437 and parameters: {'n_estimators': 565, 'max_depth': 9, 'max_leaves': 61, 'learning_rate': 0.00014932261733020512, 'kernel': 'Poly', 'gamma': 2.604248690570953e-05, 'reg_lambda': 0.004644431329646395}. Best is trial 0 with value: 0.5308682733575437.\n",
      "[I 2024-06-17 18:10:21,524] Trial 4 finished with value: 0.5308682733575437 and parameters: {'n_estimators': 813, 'max_depth': 7, 'max_leaves': 11, 'learning_rate': 0.0009568356100101524, 'kernel': 'Linear', 'gamma': 6.890132952488579, 'reg_lambda': 0.023668319227644338}. Best is trial 0 with value: 0.5308682733575437.\n",
      "[I 2024-06-17 18:10:22,017] Trial 5 finished with value: 0.5308682733575437 and parameters: {'n_estimators': 384, 'max_depth': 9, 'max_leaves': 14, 'learning_rate': 0.00028510892558279065, 'kernel': 'RBF', 'gamma': 1.1898866552185146e-06, 'reg_lambda': 1.5945548950315323e-05}. Best is trial 0 with value: 0.5308682733575437.\n",
      "[I 2024-06-17 18:10:22,507] Trial 6 finished with value: 0.5308682733575437 and parameters: {'n_estimators': 182, 'max_depth': 3, 'max_leaves': 35, 'learning_rate': 0.00036966882311124455, 'kernel': 'Linear', 'gamma': 2.862636835011694e-08, 'reg_lambda': 0.008127832079363751}. Best is trial 0 with value: 0.5308682733575437.\n",
      "[I 2024-06-17 18:10:22,905] Trial 7 finished with value: 0.5308682733575437 and parameters: {'n_estimators': 652, 'max_depth': 9, 'max_leaves': 47, 'learning_rate': 0.0011898792408188503, 'kernel': 'RBF', 'gamma': 0.4652222826041887, 'reg_lambda': 0.0008168195885479369}. Best is trial 0 with value: 0.5308682733575437.\n",
      "[I 2024-06-17 18:10:23,328] Trial 8 finished with value: 0.5308682733575437 and parameters: {'n_estimators': 889, 'max_depth': 3, 'max_leaves': 75, 'learning_rate': 0.018571299816901754, 'kernel': 'RBF', 'gamma': 0.3060913399985768, 'reg_lambda': 11.230859599425212}. Best is trial 0 with value: 0.5308682733575437.\n",
      "[I 2024-06-17 18:10:23,744] Trial 9 finished with value: 0.5308682733575437 and parameters: {'n_estimators': 946, 'max_depth': 3, 'max_leaves': 51, 'learning_rate': 0.004788338664558484, 'kernel': 'Linear', 'gamma': 0.555815560398763, 'reg_lambda': 0.0003648802397162665}. Best is trial 0 with value: 0.5308682733575437.\n",
      "[I 2024-06-17 18:10:24,188] Trial 10 finished with value: 0.5308682733575437 and parameters: {'n_estimators': 195, 'max_depth': 5, 'max_leaves': 100, 'learning_rate': 0.005150081230606853, 'kernel': 'RBF', 'gamma': 0.0006461719506245295, 'reg_lambda': 0.19197793904392058}. Best is trial 0 with value: 0.5308682733575437.\n",
      "[I 2024-06-17 18:10:24,634] Trial 11 finished with value: 0.5308682733575437 and parameters: {'n_estimators': 389, 'max_depth': 15, 'max_leaves': 74, 'learning_rate': 0.047851746334043085, 'kernel': 'Poly', 'gamma': 1.8013560062468383e-10, 'reg_lambda': 88.41073981469638}. Best is trial 0 with value: 0.5308682733575437.\n",
      "[I 2024-06-17 18:10:25,078] Trial 12 finished with value: 0.5308682733575437 and parameters: {'n_estimators': 408, 'max_depth': 12, 'max_leaves': 34, 'learning_rate': 0.09374191350886947, 'kernel': 'Poly', 'gamma': 2.8247826097372764e-09, 'reg_lambda': 1.8877710907165912}. Best is trial 0 with value: 0.5308682733575437.\n",
      "[I 2024-06-17 18:10:25,536] Trial 13 finished with value: 0.5308682733575437 and parameters: {'n_estimators': 140, 'max_depth': 15, 'max_leaves': 70, 'learning_rate': 0.014399735681641193, 'kernel': 'Poly', 'gamma': 4.980652508907731e-07, 'reg_lambda': 95.45058233866794}. Best is trial 0 with value: 0.5308682733575437.\n",
      "[I 2024-06-17 18:10:25,965] Trial 14 finished with value: 0.5308682733575437 and parameters: {'n_estimators': 761, 'max_depth': 7, 'max_leaves': 3, 'learning_rate': 0.0203390371135997, 'kernel': 'RBF', 'gamma': 1.0997260185710985e-10, 'reg_lambda': 0.37083561692339023}. Best is trial 0 with value: 0.5308682733575437.\n",
      "[I 2024-06-17 18:10:26,421] Trial 15 finished with value: 0.5308682733575437 and parameters: {'n_estimators': 990, 'max_depth': 5, 'max_leaves': 92, 'learning_rate': 0.0029671467219473066, 'kernel': 'RBF', 'gamma': 7.736548403825495e-08, 'reg_lambda': 5.9197469633588575}. Best is trial 0 with value: 0.5308682733575437.\n",
      "[I 2024-06-17 18:10:26,830] Trial 16 finished with value: 0.5308682733575437 and parameters: {'n_estimators': 281, 'max_depth': 12, 'max_leaves': 34, 'learning_rate': 0.0023584686146935954, 'kernel': 'Poly', 'gamma': 7.707253953184107e-06, 'reg_lambda': 0.20487936903223225}. Best is trial 0 with value: 0.5308682733575437.\n",
      "[I 2024-06-17 18:10:27,273] Trial 17 finished with value: 0.5308682733575437 and parameters: {'n_estimators': 518, 'max_depth': 3, 'max_leaves': 56, 'learning_rate': 0.009975321391674088, 'kernel': 'Poly', 'gamma': 0.000593951521953443, 'reg_lambda': 16.118450929434616}. Best is trial 0 with value: 0.5308682733575437.\n",
      "[I 2024-06-17 18:10:27,717] Trial 18 finished with value: 0.5308682733575437 and parameters: {'n_estimators': 292, 'max_depth': 9, 'max_leaves': 88, 'learning_rate': 0.04172577573521498, 'kernel': 'RBF', 'gamma': 4.571939382798681e-09, 'reg_lambda': 1.121375201843652}. Best is trial 0 with value: 0.5308682733575437.\n",
      "[I 2024-06-17 18:10:28,174] Trial 19 finished with value: 0.5308682733575437 and parameters: {'n_estimators': 506, 'max_depth': 3, 'max_leaves': 43, 'learning_rate': 0.03698898361310726, 'kernel': 'Linear', 'gamma': 1.280148657593485e-09, 'reg_lambda': 0.08131620981477407}. Best is trial 0 with value: 0.5308682733575437.\n",
      "[I 2024-06-17 18:10:28,642] Trial 20 finished with value: 0.5308682733575437 and parameters: {'n_estimators': 817, 'max_depth': 15, 'max_leaves': 64, 'learning_rate': 0.009953388941551585, 'kernel': 'RBF', 'gamma': 0.00042334376161870844, 'reg_lambda': 18.71401340460931}. Best is trial 0 with value: 0.5308682733575437.\n",
      "[I 2024-06-17 18:10:29,121] Trial 21 finished with value: 0.5308682733575437 and parameters: {'n_estimators': 682, 'max_depth': 9, 'max_leaves': 24, 'learning_rate': 0.0007057006311611472, 'kernel': 'Poly', 'gamma': 0.02321480651686389, 'reg_lambda': 1.8859839115443398}. Best is trial 0 with value: 0.5308682733575437.\n",
      "[I 2024-06-17 18:10:29,580] Trial 22 finished with value: 0.5308682733575437 and parameters: {'n_estimators': 708, 'max_depth': 9, 'max_leaves': 22, 'learning_rate': 0.00010905149828245121, 'kernel': 'Poly', 'gamma': 0.00015856165930200247, 'reg_lambda': 1.3510461451310398}. Best is trial 0 with value: 0.5308682733575437.\n",
      "[I 2024-06-17 18:10:30,102] Trial 23 finished with value: 0.5308682733575437 and parameters: {'n_estimators': 594, 'max_depth': 9, 'max_leaves': 5, 'learning_rate': 0.0014286329728314636, 'kernel': 'Poly', 'gamma': 0.005239211295087487, 'reg_lambda': 28.397848550807254}. Best is trial 0 with value: 0.5308682733575437.\n",
      "[I 2024-06-17 18:10:30,790] Trial 24 finished with value: 0.5308682733575437 and parameters: {'n_estimators': 473, 'max_depth': 9, 'max_leaves': 20, 'learning_rate': 0.0004246822570978004, 'kernel': 'Poly', 'gamma': 0.007757422974805968, 'reg_lambda': 4.327225326394683}. Best is trial 0 with value: 0.5308682733575437.\n",
      "[I 2024-06-17 18:10:31,376] Trial 25 finished with value: 0.5308682733575437 and parameters: {'n_estimators': 882, 'max_depth': 12, 'max_leaves': 26, 'learning_rate': 0.005135823580159023, 'kernel': 'Poly', 'gamma': 2.1240523138247456e-06, 'reg_lambda': 0.6291948739548923}. Best is trial 0 with value: 0.5308682733575437.\n",
      "[I 2024-06-17 18:10:32,091] Trial 26 finished with value: 0.5308682733575437 and parameters: {'n_estimators': 632, 'max_depth': 5, 'max_leaves': 12, 'learning_rate': 0.0018624065926674787, 'kernel': 'Poly', 'gamma': 8.354133176792285e-08, 'reg_lambda': 0.04995327899639914}. Best is trial 0 with value: 0.5308682733575437.\n",
      "[I 2024-06-17 18:10:32,709] Trial 27 finished with value: 0.5308682733575437 and parameters: {'n_estimators': 268, 'max_depth': 7, 'max_leaves': 39, 'learning_rate': 0.0005941628297738929, 'kernel': 'Poly', 'gamma': 0.048066668957367394, 'reg_lambda': 4.655661388887088}. Best is trial 0 with value: 0.5308682733575437.\n",
      "[I 2024-06-17 18:10:33,298] Trial 28 finished with value: 0.5308682733575437 and parameters: {'n_estimators': 786, 'max_depth': 3, 'max_leaves': 29, 'learning_rate': 0.000231671969818875, 'kernel': 'Linear', 'gamma': 4.7231739225658045e-05, 'reg_lambda': 0.3206442233053351}. Best is trial 0 with value: 0.5308682733575437.\n",
      "[I 2024-06-17 18:10:33,940] Trial 29 finished with value: 0.5308682733575437 and parameters: {'n_estimators': 589, 'max_depth': 9, 'max_leaves': 62, 'learning_rate': 0.08086954365265714, 'kernel': 'RBF', 'gamma': 1.937054485834148e-05, 'reg_lambda': 34.06960514821204}. Best is trial 0 with value: 0.5308682733575437.\n",
      "[I 2024-06-17 18:10:34,543] Trial 30 finished with value: 0.5308682733575437 and parameters: {'n_estimators': 895, 'max_depth': 9, 'max_leaves': 54, 'learning_rate': 0.00836206420876949, 'kernel': 'Poly', 'gamma': 0.0025812307356630503, 'reg_lambda': 0.02121958416177153}. Best is trial 0 with value: 0.5308682733575437.\n",
      "[I 2024-06-17 18:10:35,745] Trial 31 finished with value: 0.5308682733575437 and parameters: {'n_estimators': 437, 'max_depth': 9, 'max_leaves': 64, 'learning_rate': 0.00010818486307794132, 'kernel': 'Poly', 'gamma': 5.119249667498008, 'reg_lambda': 0.0022998946256162123}. Best is trial 0 with value: 0.5308682733575437.\n",
      "[I 2024-06-17 18:10:38,574] Trial 32 finished with value: 0.5308682733575437 and parameters: {'n_estimators': 737, 'max_depth': 9, 'max_leaves': 13, 'learning_rate': 0.0008214920456022367, 'kernel': 'Poly', 'gamma': 5.211013316097925e-07, 'reg_lambda': 2.7323754517477335e-05}. Best is trial 0 with value: 0.5308682733575437.\n",
      "[I 2024-06-17 18:10:40,243] Trial 33 finished with value: 0.5308682733575437 and parameters: {'n_estimators': 567, 'max_depth': 7, 'max_leaves': 56, 'learning_rate': 0.00019493020856301075, 'kernel': 'Linear', 'gamma': 4.108521342545914e-06, 'reg_lambda': 0.01155524382715277}. Best is trial 0 with value: 0.5308682733575437.\n",
      "[I 2024-06-17 18:10:42,270] Trial 34 finished with value: 0.5308682733575437 and parameters: {'n_estimators': 334, 'max_depth': 9, 'max_leaves': 80, 'learning_rate': 0.00016149326242734498, 'kernel': 'Poly', 'gamma': 5.523095051923783e-05, 'reg_lambda': 0.002095941161824882}. Best is trial 0 with value: 0.5308682733575437.\n",
      "[I 2024-06-17 18:10:44,624] Trial 35 finished with value: 0.5308682733575437 and parameters: {'n_estimators': 100, 'max_depth': 9, 'max_leaves': 7, 'learning_rate': 0.00038015656588217997, 'kernel': 'RBF', 'gamma': 1.0288786802605847e-08, 'reg_lambda': 0.00010373570586151332}. Best is trial 0 with value: 0.5308682733575437.\n",
      "[I 2024-06-17 18:10:47,543] Trial 36 finished with value: 0.5308682733575437 and parameters: {'n_estimators': 828, 'max_depth': 3, 'max_leaves': 47, 'learning_rate': 0.0005334004903142699, 'kernel': 'Poly', 'gamma': 2.5937038630831597e-07, 'reg_lambda': 0.0038112025219934516}. Best is trial 0 with value: 0.5308682733575437.\n",
      "[I 2024-06-17 18:10:50,876] Trial 37 finished with value: 0.5308682733575437 and parameters: {'n_estimators': 662, 'max_depth': 9, 'max_leaves': 17, 'learning_rate': 0.0011665473162791285, 'kernel': 'Linear', 'gamma': 0.10522871747786743, 'reg_lambda': 0.09848446417521832}. Best is trial 0 with value: 0.5308682733575437.\n",
      "[I 2024-06-17 18:10:54,054] Trial 38 finished with value: 0.5308682733575437 and parameters: {'n_estimators': 464, 'max_depth': 3, 'max_leaves': 70, 'learning_rate': 0.0002820274247283747, 'kernel': 'RBF', 'gamma': 1.2431279005378524e-05, 'reg_lambda': 0.0006016697504222633}. Best is trial 0 with value: 0.5308682733575437.\n",
      "[I 2024-06-17 18:10:57,089] Trial 39 finished with value: 0.5308682733575437 and parameters: {'n_estimators': 200, 'max_depth': 5, 'max_leaves': 47, 'learning_rate': 0.025910860242973763, 'kernel': 'Poly', 'gamma': 1.683691050820304, 'reg_lambda': 0.019169977108046042}. Best is trial 0 with value: 0.5308682733575437.\n",
      "[I 2024-06-17 18:10:59,962] Trial 40 finished with value: 0.5308682733575437 and parameters: {'n_estimators': 349, 'max_depth': 15, 'max_leaves': 82, 'learning_rate': 0.00016738978939220288, 'kernel': 'RBF', 'gamma': 0.0001050461712528721, 'reg_lambda': 5.689383889938256}. Best is trial 0 with value: 0.5308682733575437.\n",
      "[I 2024-06-17 18:11:01,535] Trial 41 finished with value: 0.5308682733575437 and parameters: {'n_estimators': 999, 'max_depth': 7, 'max_leaves': 10, 'learning_rate': 0.0009403091462718171, 'kernel': 'Linear', 'gamma': 7.756921106489357, 'reg_lambda': 0.0050196789647662205}. Best is trial 0 with value: 0.5308682733575437.\n",
      "[I 2024-06-17 18:11:04,614] Trial 42 finished with value: 0.5308682733575437 and parameters: {'n_estimators': 933, 'max_depth': 7, 'max_leaves': 18, 'learning_rate': 0.003564485579485834, 'kernel': 'Linear', 'gamma': 0.23843529962852267, 'reg_lambda': 0.04050165708100145}. Best is trial 0 with value: 0.5308682733575437.\n",
      "[I 2024-06-17 18:11:08,252] Trial 43 finished with value: 0.5308682733575437 and parameters: {'n_estimators': 865, 'max_depth': 7, 'max_leaves': 29, 'learning_rate': 0.001437175027805344, 'kernel': 'Linear', 'gamma': 5.334660336016299e-10, 'reg_lambda': 0.01095622416731523}. Best is trial 0 with value: 0.5308682733575437.\n",
      "[I 2024-06-17 18:11:12,192] Trial 44 finished with value: 0.5308682733575437 and parameters: {'n_estimators': 632, 'max_depth': 12, 'max_leaves': 61, 'learning_rate': 0.007168209276722041, 'kernel': 'Linear', 'gamma': 0.0018084984066745484, 'reg_lambda': 56.65309570488858}. Best is trial 0 with value: 0.5308682733575437.\n",
      "[I 2024-06-17 18:11:12,850] Trial 45 finished with value: 0.5308682733575437 and parameters: {'n_estimators': 736, 'max_depth': 3, 'max_leaves': 2, 'learning_rate': 0.002007552073820151, 'kernel': 'RBF', 'gamma': 1.0237119526027598, 'reg_lambda': 0.6463837722704735}. Best is trial 0 with value: 0.5308682733575437.\n",
      "[I 2024-06-17 18:11:13,426] Trial 46 finished with value: 0.5308682733575437 and parameters: {'n_estimators': 954, 'max_depth': 7, 'max_leaves': 68, 'learning_rate': 0.00046003649819437127, 'kernel': 'Poly', 'gamma': 1.4652070550404514e-06, 'reg_lambda': 0.12208598488958272}. Best is trial 0 with value: 0.5308682733575437.\n",
      "[I 2024-06-17 18:11:14,017] Trial 47 finished with value: 0.5308682733575437 and parameters: {'n_estimators': 521, 'max_depth': 9, 'max_leaves': 7, 'learning_rate': 0.014315711374755213, 'kernel': 'Linear', 'gamma': 1.891477082027929e-08, 'reg_lambda': 3.039353775618675}. Best is trial 0 with value: 0.5308682733575437.\n",
      "[I 2024-06-17 18:11:14,677] Trial 48 finished with value: 0.5308682733575437 and parameters: {'n_estimators': 690, 'max_depth': 15, 'max_leaves': 16, 'learning_rate': 0.0031442126363062602, 'kernel': 'Poly', 'gamma': 0.017310120828468455, 'reg_lambda': 11.024061413188434}. Best is trial 0 with value: 0.5308682733575437.\n",
      "[I 2024-06-17 18:11:15,185] Trial 49 finished with value: 0.5308682733575437 and parameters: {'n_estimators': 798, 'max_depth': 3, 'max_leaves': 40, 'learning_rate': 0.0003378904667980856, 'kernel': 'RBF', 'gamma': 0.00028109683077617566, 'reg_lambda': 0.0014945961562788362}. Best is trial 0 with value: 0.5308682733575437.\n",
      "[I 2024-06-17 18:11:15,709] Trial 50 finished with value: 0.5308682733575437 and parameters: {'n_estimators': 839, 'max_depth': 9, 'max_leaves': 53, 'learning_rate': 0.0010334221401636346, 'kernel': 'Poly', 'gamma': 0.0013122628367603648, 'reg_lambda': 0.18737933933109413}. Best is trial 0 with value: 0.5308682733575437.\n",
      "[I 2024-06-17 18:11:16,255] Trial 51 finished with value: 0.5308682733575437 and parameters: {'n_estimators': 416, 'max_depth': 9, 'max_leaves': 14, 'learning_rate': 0.0002625842451671913, 'kernel': 'RBF', 'gamma': 9.88555530738617e-08, 'reg_lambda': 1.1928160140158573e-05}. Best is trial 0 with value: 0.5308682733575437.\n",
      "[I 2024-06-17 18:11:16,779] Trial 52 finished with value: 0.5308682733575437 and parameters: {'n_estimators': 186, 'max_depth': 9, 'max_leaves': 9, 'learning_rate': 0.0006933346469142655, 'kernel': 'RBF', 'gamma': 1.2637600812172432e-06, 'reg_lambda': 0.00024024309754457592}. Best is trial 0 with value: 0.5308682733575437.\n",
      "[I 2024-06-17 18:11:17,296] Trial 53 finished with value: 0.5308682733575437 and parameters: {'n_estimators': 232, 'max_depth': 5, 'max_leaves': 59, 'learning_rate': 0.06244627503617773, 'kernel': 'RBF', 'gamma': 1.1058157635194557e-05, 'reg_lambda': 7.026407945526213e-05}. Best is trial 0 with value: 0.5308682733575437.\n",
      "[I 2024-06-17 18:11:17,829] Trial 54 finished with value: 0.5308682733575437 and parameters: {'n_estimators': 550, 'max_depth': 9, 'max_leaves': 21, 'learning_rate': 0.00012590924599938195, 'kernel': 'RBF', 'gamma': 4.10042394549561e-07, 'reg_lambda': 0.38699536756028485}. Best is trial 0 with value: 0.5308682733575437.\n",
      "[I 2024-06-17 18:11:18,315] Trial 55 finished with value: 0.5308682733575437 and parameters: {'n_estimators': 356, 'max_depth': 12, 'max_leaves': 27, 'learning_rate': 0.03004891863773814, 'kernel': 'Poly', 'gamma': 4.135170367913428e-06, 'reg_lambda': 10.525645698116358}. Best is trial 0 with value: 0.5308682733575437.\n",
      "[I 2024-06-17 18:11:18,798] Trial 56 finished with value: 0.5308682733575437 and parameters: {'n_estimators': 914, 'max_depth': 9, 'max_leaves': 74, 'learning_rate': 0.00031267326928336223, 'kernel': 'RBF', 'gamma': 1.7804823671322927e-09, 'reg_lambda': 1.0542901400293734}. Best is trial 0 with value: 0.5308682733575437.\n",
      "[I 2024-06-17 18:11:19,315] Trial 57 finished with value: 0.5308682733575437 and parameters: {'n_estimators': 622, 'max_depth': 3, 'max_leaves': 33, 'learning_rate': 0.00406579303772814, 'kernel': 'Poly', 'gamma': 5.539306367264693e-10, 'reg_lambda': 0.05749820099556203}. Best is trial 0 with value: 0.5308682733575437.\n",
      "[I 2024-06-17 18:11:19,885] Trial 58 finished with value: 0.5308682733575437 and parameters: {'n_estimators': 963, 'max_depth': 9, 'max_leaves': 4, 'learning_rate': 0.00022656518202593642, 'kernel': 'Linear', 'gamma': 2.8551846851950355e-05, 'reg_lambda': 3.0209550595075085}. Best is trial 0 with value: 0.5308682733575437.\n",
      "[I 2024-06-17 18:11:20,380] Trial 59 finished with value: 0.5308682733575437 and parameters: {'n_estimators': 154, 'max_depth': 7, 'max_leaves': 11, 'learning_rate': 0.016227893365963034, 'kernel': 'RBF', 'gamma': 3.387313799457889e-08, 'reg_lambda': 0.024115288152454627}. Best is trial 0 with value: 0.5308682733575437.\n",
      "[I 2024-06-17 18:11:20,916] Trial 60 finished with value: 0.5308682733575437 and parameters: {'n_estimators': 301, 'max_depth': 15, 'max_leaves': 49, 'learning_rate': 0.000144005754368189, 'kernel': 'Poly', 'gamma': 4.65867865573984e-06, 'reg_lambda': 64.01523910007054}. Best is trial 0 with value: 0.5308682733575437.\n",
      "[I 2024-06-17 18:11:21,488] Trial 61 finished with value: 0.5308682733575437 and parameters: {'n_estimators': 246, 'max_depth': 3, 'max_leaves': 33, 'learning_rate': 0.00039680101583210544, 'kernel': 'Linear', 'gamma': 4.235895772111646e-10, 'reg_lambda': 0.00889033078740971}. Best is trial 0 with value: 0.5308682733575437.\n",
      "[I 2024-06-17 18:11:22,131] Trial 62 finished with value: 0.5308682733575437 and parameters: {'n_estimators': 119, 'max_depth': 3, 'max_leaves': 23, 'learning_rate': 0.0005221598410763534, 'kernel': 'Linear', 'gamma': 1.4890907718403162e-10, 'reg_lambda': 0.004860994926329655}. Best is trial 0 with value: 0.5308682733575437.\n",
      "[I 2024-06-17 18:11:22,816] Trial 63 finished with value: 0.5308682733575437 and parameters: {'n_estimators': 167, 'max_depth': 3, 'max_leaves': 67, 'learning_rate': 0.000777546660343052, 'kernel': 'Linear', 'gamma': 1.8251068892885553e-07, 'reg_lambda': 0.0002878992476925208}. Best is trial 0 with value: 0.5308682733575437.\n",
      "[I 2024-06-17 18:11:23,310] Trial 64 finished with value: 0.5308682733575437 and parameters: {'n_estimators': 382, 'max_depth': 9, 'max_leaves': 18, 'learning_rate': 0.0001995730672251714, 'kernel': 'Linear', 'gamma': 6.396719613703949e-09, 'reg_lambda': 0.23871398977462}. Best is trial 0 with value: 0.5308682733575437.\n",
      "[I 2024-06-17 18:11:23,840] Trial 65 finished with value: 0.5308682733575437 and parameters: {'n_estimators': 220, 'max_depth': 3, 'max_leaves': 39, 'learning_rate': 0.006487609634703297, 'kernel': 'Poly', 'gamma': 6.784163425765697e-07, 'reg_lambda': 0.0007879894457889581}. Best is trial 0 with value: 0.5308682733575437.\n",
      "[I 2024-06-17 18:11:24,626] Trial 66 finished with value: 0.5308682733575437 and parameters: {'n_estimators': 765, 'max_depth': 9, 'max_leaves': 26, 'learning_rate': 0.00010012860101443812, 'kernel': 'Poly', 'gamma': 0.00011410437148746196, 'reg_lambda': 25.083188232336123}. Best is trial 0 with value: 0.5308682733575437.\n",
      "[I 2024-06-17 18:11:25,169] Trial 67 finished with value: 0.5308682733575437 and parameters: {'n_estimators': 512, 'max_depth': 5, 'max_leaves': 98, 'learning_rate': 0.002714160054729985, 'kernel': 'Linear', 'gamma': 3.74102597129115e-08, 'reg_lambda': 0.0012861410965594676}. Best is trial 0 with value: 0.5308682733575437.\n",
      "[I 2024-06-17 18:11:25,755] Trial 68 finished with value: 0.5308682733575437 and parameters: {'n_estimators': 579, 'max_depth': 12, 'max_leaves': 15, 'learning_rate': 0.0006373808931687817, 'kernel': 'RBF', 'gamma': 2.644390737667867e-06, 'reg_lambda': 0.683876966718102}. Best is trial 0 with value: 0.5308682733575437.\n",
      "[I 2024-06-17 18:11:26,295] Trial 69 finished with value: 0.5308682733575437 and parameters: {'n_estimators': 310, 'max_depth': 9, 'max_leaves': 43, 'learning_rate': 0.0014346541970067864, 'kernel': 'Poly', 'gamma': 0.0007572076132929213, 'reg_lambda': 0.0726856886308435}. Best is trial 0 with value: 0.5308682733575437.\n",
      "[I 2024-06-17 18:11:26,827] Trial 70 finished with value: 0.5308682733575437 and parameters: {'n_estimators': 265, 'max_depth': 7, 'max_leaves': 6, 'learning_rate': 0.00035016199972879886, 'kernel': 'Poly', 'gamma': 4.017306405898021e-09, 'reg_lambda': 0.007093986284351399}. Best is trial 0 with value: 0.5308682733575437.\n",
      "[I 2024-06-17 18:11:27,359] Trial 71 finished with value: 0.5308682733575437 and parameters: {'n_estimators': 667, 'max_depth': 9, 'max_leaves': 58, 'learning_rate': 0.00047454633368105084, 'kernel': 'RBF', 'gamma': 0.22922567178815847, 'reg_lambda': 0.031425849907810346}. Best is trial 0 with value: 0.5308682733575437.\n",
      "[I 2024-06-17 18:11:27,852] Trial 72 finished with value: 0.5308682733575437 and parameters: {'n_estimators': 607, 'max_depth': 9, 'max_leaves': 52, 'learning_rate': 0.0011056677337247358, 'kernel': 'RBF', 'gamma': 2.859143565238791, 'reg_lambda': 0.01651176383223145}. Best is trial 0 with value: 0.5308682733575437.\n",
      "[I 2024-06-17 18:11:28,330] Trial 73 finished with value: 0.5308682733575437 and parameters: {'n_estimators': 470, 'max_depth': 9, 'max_leaves': 20, 'learning_rate': 0.0017961388498400352, 'kernel': 'RBF', 'gamma': 0.5960790940726333, 'reg_lambda': 0.00010817990670246483}. Best is trial 0 with value: 0.5308682733575437.\n",
      "[I 2024-06-17 18:11:28,816] Trial 74 finished with value: 0.5308682733575437 and parameters: {'n_estimators': 721, 'max_depth': 9, 'max_leaves': 44, 'learning_rate': 0.000848047863341265, 'kernel': 'RBF', 'gamma': 9.886826641788987, 'reg_lambda': 0.002443717650385008}. Best is trial 0 with value: 0.5308682733575437.\n",
      "[I 2024-06-17 18:11:29,316] Trial 75 finished with value: 0.5308682733575437 and parameters: {'n_estimators': 538, 'max_depth': 3, 'max_leaves': 35, 'learning_rate': 0.00025133065031173916, 'kernel': 'Linear', 'gamma': 0.005197350723052616, 'reg_lambda': 0.00348886332037086}. Best is trial 0 with value: 0.5308682733575437.\n",
      "[I 2024-06-17 18:11:29,802] Trial 76 finished with value: 0.5308682733575437 and parameters: {'n_estimators': 655, 'max_depth': 9, 'max_leaves': 30, 'learning_rate': 0.000589245672953054, 'kernel': 'RBF', 'gamma': 0.07190753669237902, 'reg_lambda': 0.01438761285313605}. Best is trial 0 with value: 0.5308682733575437.\n",
      "[I 2024-06-17 18:11:30,278] Trial 77 finished with value: 0.5308682733575437 and parameters: {'n_estimators': 697, 'max_depth': 7, 'max_leaves': 56, 'learning_rate': 0.001218418197549771, 'kernel': 'Poly', 'gamma': 0.02635667121136132, 'reg_lambda': 1.7277563107989448e-05}. Best is trial 0 with value: 0.5308682733575437.\n",
      "[I 2024-06-17 18:11:30,885] Trial 78 finished with value: 0.5308682733575437 and parameters: {'n_estimators': 774, 'max_depth': 15, 'max_leaves': 66, 'learning_rate': 0.00018359394137943132, 'kernel': 'RBF', 'gamma': 3.1615464759607317, 'reg_lambda': 3.425955515390994e-05}. Best is trial 0 with value: 0.5308682733575437.\n",
      "[I 2024-06-17 18:11:31,367] Trial 79 finished with value: 0.5308682733575437 and parameters: {'n_estimators': 863, 'max_depth': 9, 'max_leaves': 71, 'learning_rate': 0.0001317904079215512, 'kernel': 'Linear', 'gamma': 1.035421729186233, 'reg_lambda': 0.0004764346571485388}. Best is trial 0 with value: 0.5308682733575437.\n",
      "[I 2024-06-17 18:11:31,860] Trial 80 finished with value: 0.5308682733575437 and parameters: {'n_estimators': 128, 'max_depth': 3, 'max_leaves': 10, 'learning_rate': 0.0023454127044673988, 'kernel': 'Poly', 'gamma': 6.620809925940183e-05, 'reg_lambda': 8.35761486023418}. Best is trial 0 with value: 0.5308682733575437.\n",
      "[I 2024-06-17 18:11:32,343] Trial 81 finished with value: 0.5308682733575437 and parameters: {'n_estimators': 927, 'max_depth': 3, 'max_leaves': 89, 'learning_rate': 0.020173670176541307, 'kernel': 'RBF', 'gamma': 0.1510876378050397, 'reg_lambda': 16.94303617954278}. Best is trial 0 with value: 0.5308682733575437.\n",
      "[I 2024-06-17 18:11:32,826] Trial 82 finished with value: 0.5308682733575437 and parameters: {'n_estimators': 968, 'max_depth': 3, 'max_leaves': 75, 'learning_rate': 0.061740313705418645, 'kernel': 'RBF', 'gamma': 0.39016741055308357, 'reg_lambda': 45.44754237774632}. Best is trial 0 with value: 0.5308682733575437.\n",
      "[I 2024-06-17 18:11:33,316] Trial 83 finished with value: 0.5308682733575437 and parameters: {'n_estimators': 896, 'max_depth': 3, 'max_leaves': 81, 'learning_rate': 0.011328333800959364, 'kernel': 'RBF', 'gamma': 2.6148379094245867e-05, 'reg_lambda': 3.2319782749607113}. Best is trial 0 with value: 0.5308682733575437.\n",
      "[I 2024-06-17 18:11:33,809] Trial 84 finished with value: 0.5308682733575437 and parameters: {'n_estimators': 801, 'max_depth': 5, 'max_leaves': 77, 'learning_rate': 0.03306792166963724, 'kernel': 'RBF', 'gamma': 0.0002357670059852911, 'reg_lambda': 1.8424120458365596}. Best is trial 0 with value: 0.5308682733575437.\n",
      "[I 2024-06-17 18:11:34,300] Trial 85 finished with value: 0.5308682733575437 and parameters: {'n_estimators': 986, 'max_depth': 9, 'max_leaves': 13, 'learning_rate': 0.02374544716680667, 'kernel': 'RBF', 'gamma': 9.882117382291558e-07, 'reg_lambda': 0.12290996162980346}. Best is trial 0 with value: 0.5308682733575437.\n",
      "[I 2024-06-17 18:11:34,800] Trial 86 finished with value: 0.5308682733575437 and parameters: {'n_estimators': 861, 'max_depth': 3, 'max_leaves': 64, 'learning_rate': 0.04713734060611291, 'kernel': 'Poly', 'gamma': 7.888288343113015e-06, 'reg_lambda': 0.007056727945463971}. Best is trial 0 with value: 0.5308682733575437.\n",
      "[I 2024-06-17 18:11:35,318] Trial 87 finished with value: 0.5308682733575437 and parameters: {'n_estimators': 641, 'max_depth': 12, 'max_leaves': 46, 'learning_rate': 0.00028519670229614993, 'kernel': 'Linear', 'gamma': 0.012932864572714158, 'reg_lambda': 0.02993961579391493}. Best is trial 0 with value: 0.5308682733575437.\n",
      "[I 2024-06-17 18:11:35,826] Trial 88 finished with value: 0.5308682733575437 and parameters: {'n_estimators': 732, 'max_depth': 7, 'max_leaves': 38, 'learning_rate': 0.01341722876025452, 'kernel': 'RBF', 'gamma': 0.03962886192177228, 'reg_lambda': 94.41889433746954}. Best is trial 0 with value: 0.5308682733575437.\n",
      "[I 2024-06-17 18:11:36,445] Trial 89 finished with value: 0.5308682733575437 and parameters: {'n_estimators': 439, 'max_depth': 9, 'max_leaves': 84, 'learning_rate': 0.0004036455694749812, 'kernel': 'Poly', 'gamma': 4.786896733034886, 'reg_lambda': 7.561369103652468}. Best is trial 0 with value: 0.5308682733575437.\n",
      "[I 2024-06-17 18:11:36,935] Trial 90 finished with value: 0.5308682733575437 and parameters: {'n_estimators': 839, 'max_depth': 9, 'max_leaves': 8, 'learning_rate': 0.001637364803176159, 'kernel': 'RBF', 'gamma': 1.5268173012416324, 'reg_lambda': 0.00016861831970856015}. Best is trial 0 with value: 0.5308682733575437.\n",
      "[I 2024-06-17 18:11:37,437] Trial 91 finished with value: 0.5308682733575437 and parameters: {'n_estimators': 947, 'max_depth': 3, 'max_leaves': 50, 'learning_rate': 0.005232833101086072, 'kernel': 'Linear', 'gamma': 0.24708423715530153, 'reg_lambda': 0.0008459818981968466}. Best is trial 0 with value: 0.5308682733575437.\n",
      "[I 2024-06-17 18:11:37,935] Trial 92 finished with value: 0.5308682733575437 and parameters: {'n_estimators': 900, 'max_depth': 3, 'max_leaves': 61, 'learning_rate': 0.0044405600561265345, 'kernel': 'Linear', 'gamma': 1.9333963336646995, 'reg_lambda': 26.185740760877906}. Best is trial 0 with value: 0.5308682733575437.\n",
      "[I 2024-06-17 18:11:38,445] Trial 93 finished with value: 0.5308682733575437 and parameters: {'n_estimators': 1000, 'max_depth': 3, 'max_leaves': 55, 'learning_rate': 0.008675877681530997, 'kernel': 'Linear', 'gamma': 0.47678169694378625, 'reg_lambda': 4.4784646720546605e-05}. Best is trial 0 with value: 0.5308682733575437.\n",
      "[I 2024-06-17 18:11:39,017] Trial 94 finished with value: 0.5308682733575437 and parameters: {'n_estimators': 198, 'max_depth': 3, 'max_leaves': 58, 'learning_rate': 0.0022028121907914284, 'kernel': 'Linear', 'gamma': 3.5925323880923123e-07, 'reg_lambda': 0.0014566251168370854}. Best is trial 0 with value: 0.5308682733575437.\n",
      "[I 2024-06-17 18:11:39,593] Trial 95 finished with value: 0.5308682733575437 and parameters: {'n_estimators': 978, 'max_depth': 3, 'max_leaves': 24, 'learning_rate': 0.0028716013553654585, 'kernel': 'Linear', 'gamma': 0.10785782079555675, 'reg_lambda': 0.003005650320725356}. Best is trial 0 with value: 0.5308682733575437.\n",
      "[I 2024-06-17 18:11:40,170] Trial 96 finished with value: 0.5308682733575437 and parameters: {'n_estimators': 881, 'max_depth': 9, 'max_leaves': 2, 'learning_rate': 0.09934910900343606, 'kernel': 'Poly', 'gamma': 1.6937445102113041e-09, 'reg_lambda': 12.831052141221154}. Best is trial 0 with value: 0.5308682733575437.\n",
      "[I 2024-06-17 18:11:40,730] Trial 97 finished with value: 0.5308682733575437 and parameters: {'n_estimators': 495, 'max_depth': 15, 'max_leaves': 36, 'learning_rate': 0.019796311509850978, 'kernel': 'Linear', 'gamma': 1.5557591769510442e-05, 'reg_lambda': 0.00033017096069527254}. Best is trial 0 with value: 0.5308682733575437.\n",
      "[I 2024-06-17 18:11:41,320] Trial 98 finished with value: 0.5308682733575437 and parameters: {'n_estimators': 563, 'max_depth': 7, 'max_leaves': 49, 'learning_rate': 0.01691364392172816, 'kernel': 'Poly', 'gamma': 0.8804484436152752, 'reg_lambda': 0.04852723141308073}. Best is trial 0 with value: 0.5308682733575437.\n",
      "[I 2024-06-17 18:11:41,869] Trial 99 finished with value: 0.5308682733575437 and parameters: {'n_estimators': 934, 'max_depth': 9, 'max_leaves': 17, 'learning_rate': 0.0007623305752318406, 'kernel': 'RBF', 'gamma': 1.1289692734147312e-07, 'reg_lambda': 0.004908719589849982}. Best is trial 0 with value: 0.5308682733575437.\n"
     ]
    },
    {
     "name": "stdout",
     "output_type": "stream",
     "text": [
      "Best trial: 0\n",
      "Best value: 0.5308682733575437\n",
      "Best hyperparameters: {'n_estimators': 195, 'max_depth': 9, 'max_leaves': 10, 'learning_rate': 0.0037721485022271656, 'kernel': 'RBF', 'gamma': 2.6148995723694972e-06, 'reg_lambda': 0.7442429929053306}\n"
     ]
    }
   ],
   "execution_count": 19
  },
  {
   "cell_type": "code",
   "id": "a8f3c50f-658e-4080-b20c-9fbb182cd910",
   "metadata": {
    "ExecuteTime": {
     "end_time": "2024-06-18T00:06:22.976771Z",
     "start_time": "2024-06-18T00:06:22.964660Z"
    }
   },
   "source": "",
   "outputs": [
    {
     "name": "stdout",
     "output_type": "stream",
     "text": [
      "Object `suggest_categorical` not found.\n"
     ]
    }
   ],
   "execution_count": 15
  },
  {
   "cell_type": "code",
   "id": "9f8e28ef-1744-4997-b1ae-94f4ad1fd626",
   "metadata": {
    "ExecuteTime": {
     "end_time": "2024-06-17T23:59:53.095083Z",
     "start_time": "2024-06-17T23:59:53.095083Z"
    }
   },
   "source": [],
   "outputs": [],
   "execution_count": null
  },
  {
   "cell_type": "code",
   "id": "1965279f-d23a-4fbe-b73e-86d9feea94cb",
   "metadata": {},
   "source": [],
   "outputs": [],
   "execution_count": null
  },
  {
   "cell_type": "code",
   "id": "ca7250a7-a80b-4398-addc-197eaa13f6e4",
   "metadata": {
    "ExecuteTime": {
     "end_time": "2024-06-17T23:59:53.111007Z",
     "start_time": "2024-06-17T23:59:53.095083Z"
    }
   },
   "source": [],
   "outputs": [],
   "execution_count": null
  },
  {
   "cell_type": "code",
   "id": "dbe6e9a7-06b1-4d3b-abee-f5c00b8e4b74",
   "metadata": {},
   "source": [],
   "outputs": [],
   "execution_count": null
  }
 ],
 "metadata": {
  "kernelspec": {
   "display_name": "Python 3 (ipykernel)",
   "language": "python",
   "name": "python3"
  },
  "language_info": {
   "codemirror_mode": {
    "name": "ipython",
    "version": 3
   },
   "file_extension": ".py",
   "mimetype": "text/x-python",
   "name": "python",
   "nbconvert_exporter": "python",
   "pygments_lexer": "ipython3",
   "version": "3.12.3"
  }
 },
 "nbformat": 4,
 "nbformat_minor": 5
}
