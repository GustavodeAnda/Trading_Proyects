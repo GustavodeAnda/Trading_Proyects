{
 "cells": [
  {
   "metadata": {},
   "cell_type": "markdown",
   "source": "# Technical Analysis\n",
   "id": "e473f1e87c50827d"
  },
  {
   "metadata": {},
   "cell_type": "markdown",
   "source": "The objective of this project is to create an algorithm that optimizes buy and sell signals as effectively as possible for trading using different models and strategies. We aim to achieve this by leveraging various technical indicators and optimizing the different inputs for each technical indicator. We tested the code we created with two different assets: AAPL stock and BTC-USD cryptocurrency.\n",
   "id": "2930fa7806d12d91"
  },
  {
   "metadata": {},
   "cell_type": "markdown",
   "source": [
    "\n",
    "\n",
    "## Problem approach\n",
    "Starting with the description of the indicators we will be using and optimizing on our code:\n",
    "\n",
    "#### - RSI\n",
    "Measures the magnitude of recent price changes to evaluate overbought(~70) or oversold(~30) conditions, as well as the momentum the asset may carry.\n",
    "\n",
    "#### - Bollinger Bands\n",
    "Uses standard deviation and a simple moving average to create upper and lower bands around the price of an asset. These bands can indicate overbought or oversold conditions.\n",
    "\n",
    "#### - Moving Average Convergence Divergence (MACD)\n",
    "Is a trend-following indicator that show the relationship between two moving averages of a security's price. It helps us identify potential buy and sell signals, as well as trend directions. \n",
    " \n",
    "#### - Average True Range (ATR)\n",
    "Measures market volatility by decomposing the entire range of an asset price for a given period. Provides insights into the degree of price volatility and can be used for setting stop-loss orders, identifying breakouts, and gauging potential price movements.\n",
    "\n",
    "#### Why these indicators\n",
    "Using multiple indicators together can provide stronger signals and reduce the likelihood of false signals:  \n",
    "- ATR and Bollinger Bands help set stop-loss levels based on volatility, protecting trades from unexpected price movements. \n",
    "- RSI and Bollinger Bands help identify optimal entry and exit points by signaling overbought or oversold conditions.\n",
    "- MACD helps us identify trends and jump in or out of them when needed.\n",
    "\n",
    "\n"
   ],
   "id": "39240620a75d3f17"
  },
  {
   "metadata": {},
   "cell_type": "markdown",
   "source": [
    "# Training results\n",
    "We will first review the results obtained during the training phase for each data set, these are all the best outcomes having made the trials for each possible combination of our indicators:"
   ],
   "id": "1d45895c33dd6bbc"
  },
  {
   "metadata": {},
   "cell_type": "markdown",
   "source": [
    "### AAPL 5 min\n",
    "\n",
    "Combination RSI:\n",
    "- Portfolio value: 1,407,753.0336074033\n",
    "- Number of shares: 93\n",
    "- Stop loss: 0.3797931715217154, Take profit: 0.2584377218497207\n",
    "- RSI window: 33\n",
    "- RSI lower threshold: 30\n",
    "- RSI upper threshold: 81\n",
    "\n",
    "<img src=\"data/AAPL 5 MIN TRAIN.png\" alt=\"AAPL 5 minute train\" width=\"1200\" height=\"700\">\n"
   ],
   "id": "52cb6f1afb1e927d"
  },
  {
   "metadata": {},
   "cell_type": "markdown",
   "source": [
    "### AAPL 1 min\n",
    "\n",
    "Combination RSI:\n",
    "- Portfolio value: 1,094,337.991346501,\n",
    "- Number of shares: 44\n",
    "- Stop loss: 0.17466016271602947, Take profit: 0.35114612061554595\n",
    "- RSI window: 18\n",
    "- RSI lower threshold: 26\n",
    "- RSI upper threshold: 90\n",
    "\n",
    "<img src=\"data/AAPL 1 MIN TRAIN.png\" alt=\"AAPL 1 minute train\" width=\"1200\" height=\"700\">\n",
    "\n"
   ],
   "id": "964a27e90f0b4eb1"
  },
  {
   "metadata": {},
   "cell_type": "markdown",
   "source": [
    "### BTC 5 min \n",
    "\n",
    "Combination RSI:\n",
    "- Portfolio value: 1,891,160.140288772\n",
    "- Number of shares: 6.351931080852851\n",
    "- Stop loss: 0.2202772870427661\n",
    "- Take_profit: 0.37648633223981687\n",
    "- RSI window: 49\n",
    "- RSI lower threshold: 29\n",
    "- RSI upper threshold: 88\n",
    "\n",
    "<img src=\"data/BTC 5 MIN TRAIN.png\" alt=\"BTC 5 minute train\" width=\"1200\" height=\"700\">\n"
   ],
   "id": "473b87e98bcbd25a"
  },
  {
   "metadata": {},
   "cell_type": "markdown",
   "source": [
    "### BTC 1 min\n",
    "\n",
    "Combination: MACD\n",
    "- Portfolio value: 1,581,089.0236697514,\n",
    "- Number of shares: 6.0156138225684685,\n",
    "- Stop loss: 0.25350468439149887, Take profit: 0.29385546248739247\n",
    "- MACD slow window: 30\n",
    "- MACD fast window: 11\n",
    "- MACD sign window: 15\n",
    "\n",
    "<img src=\"data/BTC 1 MIN TRAIN.png\" alt=\"BTC 1 minute train\" width=\"1200\" height=\"700\">\n"
   ],
   "id": "df4da92130b25d6d"
  },
  {
   "metadata": {},
   "cell_type": "markdown",
   "source": [
    "# Testing results\n",
    "Now, we will review the results obtained during the tests, as well as the behaviour of an active and passive strategy for each data set:"
   ],
   "id": "eca3e7956cf86714"
  },
  {
   "metadata": {},
   "cell_type": "markdown",
   "source": [
    "### AAPL 5 minutes\n",
    "\n",
    "The graph below shows the behaviour of the active and passive strategy with AAPL. Here we can see the active strategy outperform the passive by around 4%. It's interesting to see at the start of the graph a period where the benchmark out shadowed the active strategy and that it didn't replicate the move from AAPL, that begins shortly after around the 2,000 mark and from there, the active strategy always outperformed the benchmark. In this test the model used was RSI\n",
    "\n",
    "<img src=\"data/AAPL 5 MIN.png\" alt=\"AAPL 5 minutes\" width=\"1200\" height=\"700\">"
   ],
   "id": "b40d36266364c56e"
  },
  {
   "metadata": {},
   "cell_type": "markdown",
   "source": [
    "### AAPL 1 minute\n",
    "\n",
    "The optimal method we found with the help of Optuna was the RSI (Relative Strength Index), which, as we can see, resulted in a better performance than a passive strategy by about 2%. As shown in the graph, the active strategy (blue line) maintained a higher performance compared to the passive strategy (orange line) throughout the period. Specifically, the active strategy ended with a decline of 7.07%, whereas the passive strategy showed a larger decline of 9.98%. This demonstrates the effectiveness of using RSI for active trading.\n",
    "\n",
    "\n",
    "\n",
    "\n",
    "<img src=\"data/AAPL 1 MIN.png\" alt=\"BTC 1 minutes\" width=\"1200\" height=\"700\">"
   ],
   "id": "642b8eb31fdc6e98"
  },
  {
   "metadata": {},
   "cell_type": "markdown",
   "source": [
    "### BTC 5 min \n",
    "\n",
    "The graph below shows the behavior of the active and passive strategies with BTC. There's a significant difference between the two strategies, with the clear winner being the passive strategy in this case, following the buy and hold approach. We observed that the algorithm did not generate any buy signals, which can be primarily attributed to the extreme changes in the data structure used for training the model compared to the test data. During the training phase, the initial BTC price was approximately $35,000, while the test dataset started relatively balanced with the training dataset. However, shortly thereafter, BTC surged by more than 40%. In this case the model used was the MACD.\n",
    "\n",
    "<img src=\"data/BTC 5 MIN.png\" alt=\"BTC 5 minutes\" width=\"1200\" height=\"700\">"
   ],
   "id": "22257f4eaae9882c"
  },
  {
   "metadata": {},
   "cell_type": "markdown",
   "source": [
    "### BTC 1 min \n",
    "\n",
    "The graph below shows the behavior of the active and passive strategies with BTC. Notice that the passive strategy gives us more than the active strategy, which is also the case of the previous BTC graph. Although the active strategy for this graph replicates the asset's behavior better, it is still better in this case to buy and hold. Even though there are times when the benchmark did better than the active strategy, in the end, the best option is to buy and hold. In contrast, the RSI model performed better in training our algorithm, yet it still fell short of the benchmark.\n",
    "\n",
    "<img src=\"data/BTC 1 MIN.png\" alt=\"BTC 1 minutes\" width=\"1200\" height=\"700\">\n"
   ],
   "id": "6014cffbf88ac548"
  },
  {
   "metadata": {},
   "cell_type": "markdown",
   "source": [
    "# Conclusions\n",
    "\n",
    "During the training phase, the benchmark was consistently outperformed by our strategy, which, for all four datasets, was composed of only one (1) indicator. We initially anticipated that more complex strategies would emerge, but the results indicate that simplicity can be effective, at least during the training phase. This outcome suggests that a minimalistic approach might often be enough, challenging the common assumption that more indicators lead to better performance.\n",
    "\n",
    "During the testing phase, for both BTC datasets, the best strategy turned out to be simply buying and holding. Given the high volatility of this asset, this result is not entirely surprising, though we initially believed an active strategy might outperform the benchmark. In contrast, for the AAPL datasets, an active strategy was required to surpass the benchmark. This result aligned with our expectations for this asset. However, the most effective strategy still involved the use of just one (1) indicator, rather than a combination.\n",
    "\n",
    "These findings lead us to conclude that sometimes simple models can effectively accomplish the task at hand, proving to be as efficient as many more complex and robust models. This emphasizes the value of simplicity in model design and suggests that more elaborate strategies do not necessarily yield better results. Thus, our research underscores the importance of considering both simplicity and complexity in the development of trading strategies, recognizing that a straightforward approach can often be just as powerful.\n"
   ],
   "id": "ff16a85cf6fb970a"
  },
  {
   "metadata": {},
   "cell_type": "markdown",
   "source": "# Machine Learning",
   "id": "9d926dafd999e074"
  },
  {
   "metadata": {},
   "cell_type": "markdown",
   "source": [
    "### AAPL 1 MIN Logistic Regression BUY\n",
    "\n",
    "Best hyperparameters\n",
    "- C: 3.2308103588075003e-09\n",
    "- fit_intercept: True \n",
    "- l1_ratio: 0.29291153999627495\n",
    "\n",
    "The optimal method we found with the help of Optuna was Logistic Regression using the mentioned hyperparameters. Compared to a passive strategy, the active strategy based on these parameters maintained similar performance throughout the period. As shown in the graph, the active strategy (green line) had a constant performance, ending with a 0.0% variation, whereas the passive strategy (orange line) showed a decrease of 1.22%. This demonstrates that, although the active strategy did not generate gains, it managed to avoid losses compared to the passive strategy.\n",
    "\n",
    "\n",
    "<img src=\"data/AAPL_1MIN_LR.jpg\" alt=\"AAPL_1MIN_LR\" width=\"1200\" height=\"700\">"
   ],
   "id": "4077feb5827713db"
  },
  {
   "metadata": {},
   "cell_type": "markdown",
   "source": [
    "### AAPL 1 MIN Logistic Regression SELL\n",
    "\n",
    "Best hyperparameters\n",
    "- C: 3.1734374154325136e-09\n",
    "- fit_intercept: False\n",
    "- l1_ratio: 0.05687930407548114\n",
    "\n",
    "The optimal method we found with the help of Optuna was Logistic Regression using the mentioned hyperparameters. Compared to a passive strategy, the active strategy based on these parameters maintained similar performance throughout the period. As shown in the graph, the active strategy (green line) had a constant performance, ending with a 0.0% variation, whereas the passive strategy (orange line) showed a decrease of 1.22%. This demonstrates that, although the active strategy did not generate gains, it managed to avoid losses compared to the passive strategy.\n",
    "\n",
    "<img src=\"data/AAPL_1MIN_LR_SELL.jpg\" alt=\"AAPL_1MIN_LR_SELL\" width=\"1200\" height=\"700\">"
   ],
   "id": "9ea99da2950cc9a4"
  },
  {
   "metadata": {},
   "cell_type": "markdown",
   "source": [
    "### AAPL 1 MIN SVC BUY\n",
    "\n",
    "Best hyperparameters:\n",
    "- C: 510.74747230424066\n",
    "- kernel: 'linear', 'gamma': 1.8874586691468693\n",
    "\n",
    "The optimal method we found with the help of Optuna was Support Vector Classifier (SVC) using the mentioned hyperparameters. Compared to a passive strategy, the active strategy based on these parameters showed a slightly better performance throughout the period. As shown in the graph, the active strategy (green line) had a minor increase, ending with a 0.21% gain, whereas the passive strategy (orange line) showed a decrease of 1.22%. This demonstrates the potential effectiveness of using SVC for active trading, achieving a small gain while avoiding the losses seen in the passive strategy.\n",
    "\n",
    "<img src=\"data/AAPL_1MIN_SVC.jpg\" alt=\"AAPL_1_MIN_SVC\" width=\"1200\" height=\"700\">"
   ],
   "id": "7ce96c1025e40c9f"
  },
  {
   "metadata": {},
   "cell_type": "markdown",
   "source": [
    "### AAPL 1 MIN SVC SELL\n",
    "\n",
    "Best hyperparameters:\n",
    "- C: 203.1621071904215\n",
    "- kernel: 'poly', 'gamma': 9.625728647987504\n",
    "\n",
    "The optimal method we found with the help of Optuna was Support Vector Classifier (SVC) using the mentioned hyperparameters. Compared to a passive strategy, the active strategy based on these parameters showed a significantly better performance throughout the period. As shown in the graph, the active strategy (orange line) had an increase, ending with a 1.82% gain, whereas the passive strategy (green line) showed a decrease of 1.22%. This demonstrates the effectiveness of using SVC for active trading, achieving notable gains while avoiding the losses seen in the passive strategy.\n",
    "\n",
    "<img src=\"data/AAPL_1MIN_SVC_SELL.jpg\" alt=\"AAPL_1_MIN_SVC_SELL\" width=\"1200\" height=\"700\">"
   ],
   "id": "1cd9999b3c48e0b9"
  },
  {
   "metadata": {},
   "cell_type": "markdown",
   "source": [
    "### AAPL 1 MIN XGBoost BUY\n",
    "\n",
    "Best hyperparameters:\n",
    "- n_estimators: 193\n",
    "- max_depth: 9\n",
    "- max_leaves: 1\n",
    "- learning_rate: 0.06595866157246444\n",
    "- booster: 'gbtree', 'gamma': 1.932182845995822e-08, 'reg_lambda': 0.6909203890096943\n",
    "\n",
    "The optimal method we discovered using Optuna was XGBoost with the listed hyperparameters. Throughout the evaluation period, the active strategy (green line) displayed a stable performance, ending with a 0.0% change. In comparison, the passive strategy (orange line) experienced a decrease of 1.22%. This indicates that while the active strategy did not achieve gains, it was successful in preventing the losses observed in the passive approach. This demonstrates the utility of XGBoost in maintaining portfolio value under challenging market conditions.\n",
    "\n",
    "<img src=\"data/AAPL_1MIN_XGB.jpg\" alt=\"AAPL_1MIN_XGB\" width=\"1200\" height=\"700\">\n"
   ],
   "id": "b8920793f9b546b3"
  },
  {
   "metadata": {},
   "cell_type": "markdown",
   "source": [
    "### AAPL 1 MIN XGBoost SELL\n",
    "\n",
    "Best hyperparameters:\n",
    "- n_estimators: 152\n",
    "- max_depth: 4\n",
    "- max_leaves: 6\n",
    "- learning_rate:  0.0002729560897631164\n",
    "- booster: 'dart', 'gamma': 0.0014857229054631986, 'reg_lambda': 4.9265454194925784e-08\n",
    "\n",
    "Optuna helped us determine that XGBoost, configured with these hyperparameters, was the optimal method. The active strategy, indicated by the green line, maintained a flat performance, ending with a 0.0% change. In contrast, the passive strategy, shown by the orange line, saw a decline of 1.22%. This outcome illustrates that while the active strategy did not produce gains, it effectively avoided the losses incurred by the passive strategy, thereby preserving the portfolio's value.\n",
    "\n",
    "<img src=\"data/AAPL_1MIN_XGB_SELL.jpg\" alt=\"AAPL_1MIN_XGB_SELL\" width=\"1200\" height=\"700\">\n"
   ],
   "id": "22ae331409412301"
  },
  {
   "metadata": {},
   "cell_type": "markdown",
   "source": [
    "### AAPL 5 MIN Logistic Regression BUY\n",
    "\n",
    "Best hyperparameters: \n",
    "- C: 47696.29641830489\n",
    "- fit_intercept: True\n",
    "- l1_ratio: 0.3145169788364345\n",
    "\n",
    "With the help of Optuna, we determined that Logistic Regression with the specified hyperparameters was the optimal method. The active strategy, shown by the green line, achieved a notable performance improvement, ending with an 11.28% gain. In comparison, the passive strategy, represented by the orange line, gained 11.11%. This result demonstrates that the active strategy not only matched but slightly outperformed the passive strategy, highlighting its potential effectiveness in maximizing portfolio returns.\n",
    "\n",
    "<img src=\"data/AAPL_5MIN_LR.jpg\" alt=\"AAPL_5MINS_LR\" width=\"1200\" height=\"700\">\n"
   ],
   "id": "42e6972a0cdbd68e"
  },
  {
   "metadata": {},
   "cell_type": "markdown",
   "source": [
    "### AAPL 5 MIN Logistic Regression SELL\n",
    "\n",
    "Best hyperparameters: \n",
    "- C: 145\n",
    "- fit_intercept: False\n",
    "- l1_ratio = 0.9475016449857\n",
    "\n",
    "Using Optuna, we identified Logistic Regression with the specified hyperparameters as the optimal method. The active strategy (orange line) underperformed significantly, ending with a 5.18% loss. In contrast, the passive strategy (green line) performed remarkably well, achieving an 11.11% gain. This outcome highlights that the chosen active strategy did not only fail to generate profits but also incurred losses, demonstrating the challenges and potential pitfalls of active trading when the strategy is not well-aligned with market conditions.\n",
    "\n",
    "<img src=\"data/AAPL_5_MIN_LR_SELL.jpg\" alt=\"AAPL_5MIN_LR_SELL\" width=\"1200\" height=\"700\">\n"
   ],
   "id": "8ff52e1ecf03d1fd"
  },
  {
   "metadata": {},
   "cell_type": "markdown",
   "source": [
    "### AAPL 5 MIN SVC BUY\n",
    "\n",
    "Best hyperparameters: \n",
    "- C: 10.406538336390442\n",
    "- kernel: 'poly, 'gamma': 0.08926398824211872\n",
    "\n",
    "By utilizing Optuna, we identified that the optimal method was the Support Vector Classifier (SVC) with the specified hyperparameters. The active strategy, represented by the orange line, demonstrated superior performance, ending with an 11.56% gain. Comparatively, the passive strategy (green line) achieved an 11.11% gain. This indicates that the active strategy was slightly more effective in capitalizing on market opportunities, thereby enhancing portfolio returns marginally better than the passive strategy.\n",
    "\n",
    "\n",
    "\n",
    "<img src=\"data/AAPL_5MIN_SVC.jpg\" alt=\"AAPL_5MIN_SVC\" width=\"1200\" height=\"700\">\n"
   ],
   "id": "320c4a29536cca88"
  },
  {
   "metadata": {},
   "cell_type": "markdown",
   "source": [
    "### AAPL 5 MIN SVC SELL\n",
    "\n",
    "Best hyperparameters: \n",
    "- C: 4.078308765656782\n",
    "- kernel: 'linear, 'gamma': 1.02657882968666\n",
    "\n",
    "Through the use of Optuna, we determined that the optimal method was the Support Vector Classifier (SVC) with the specified hyperparameters. The active strategy, represented by the orange line, performed poorly, ending with a substantial loss of 15.49%. In contrast, the passive strategy (green line) performed well, achieving an 11.11% gain. This stark difference underscores the challenges of active trading when the strategy does not align well with market conditions, leading to significant underperformance compared to a passive approach.\n",
    "\n",
    "<img src=\"data/AAPL_5MIN_SVC_SELL.jpg\" alt=\"AAPL_5MIN_SVC_SELL\" width=\"1200\" height=\"700\">\n"
   ],
   "id": "22bf62e7757bd8"
  },
  {
   "metadata": {},
   "cell_type": "markdown",
   "source": [
    "### AAPL 5 MIN XGBoost BUY\n",
    "\n",
    "Best hyperparameters: \n",
    "\n",
    "- n_estimators: 145\n",
    "- max_depth: 4\n",
    "- max_leaves: 9\n",
    "- learning_rate: 0.09734559639741085\n",
    "- booster': 'dart','gamma': 2.787331037777771e-07, 'reg_lambda': 6.9741950464194356e-06})\n",
    "\n",
    "Optuna helped us identify that XGBoost with the specified hyperparameters was the optimal method for this strategy. The active strategy (orange line) demonstrated strong performance, ending with an 11.48% gain. Meanwhile, the passive strategy (green line) achieved an 11.11% gain. This result indicates that the active strategy, powered by XGBoost, managed to slightly outperform the passive strategy, showcasing its potential to enhance portfolio returns under the given market conditions.\n",
    "\n",
    "<img src=\"data/AAPL_5MIN_XGB.jpg\" alt=\"AAPL_5MIN_XGB\" width=\"1200\" height=\"700\">\n"
   ],
   "id": "fa8362b42999e46b"
  },
  {
   "metadata": {},
   "cell_type": "markdown",
   "source": [
    "### AAPL 5 MIN XGBoost SELL\n",
    "\n",
    "Best hyperparameters: \n",
    "\n",
    "- n_estimators: 145\n",
    "- max_depth: 3\n",
    "- max_leaves: 2\n",
    "- learning_rate: 0.01012950768037197\n",
    "- booster: 'gblinear','gamma': 2.082354189043541e-06, 'reg_lambda': 2.1214343332908175e-07\n",
    "\n",
    "Using Optuna, we identified that XGBoost with the specified hyperparameters was the optimal method. The active strategy (orange line) performed poorly, ending with a slight loss of 0.21%. In contrast, the passive strategy (green line) performed significantly better, achieving an 11.11% gain. This demonstrates that the active strategy, in this case, was not effective and underperformed compared to the passive strategy, which consistently grew the portfolio's value.\n",
    "\n",
    "<img src=\"data/AAPL_5MIN_XGB_SELL.png\" alt=\"AAPL_5MIN_XGB_SELL\" width=\"1200\" height=\"700\">\n"
   ],
   "id": "fe49346d5634444c"
  },
  {
   "metadata": {},
   "cell_type": "markdown",
   "source": [
    "### BTC 1 MIN Logistic Regression BUY\n",
    "\n",
    "Best hyperparameters:\n",
    "- C: 0.0033568671215291938\n",
    "- fit_intercept: False\n",
    "- l1_ratio: 0.41220725458458524\n",
    "\n",
    "Using Optuna, we identified Logistic Regression with the specified hyperparameters as the optimal method. The active strategy (orange line) maintained a stable performance, ending with a 0.0% change. In contrast, the passive strategy (green line) showed a decline of 1.48%. This demonstrates that although the active strategy did not achieve gains, it was effective in avoiding the losses that the passive strategy incurred.\n",
    "\n",
    "\n",
    "\n",
    "<img src=\"data/BTC_1MIN_LR.jpg\" alt=\"BTC 1 MIN LR\" width=\"1200\" height=\"700\">"
   ],
   "id": "76ad1309f1f51450"
  },
  {
   "metadata": {},
   "cell_type": "markdown",
   "source": [
    "### BTC 1 MIN Logistic Regression SELL\n",
    "\n",
    "Best hyperparameters:\n",
    "- C: 1.4421502015537356e-10\n",
    "- fit_intercept: False\n",
    "- l1_ratio: 0.20718200544065646\n",
    "\n",
    "Using Optuna, we determined that Logistic Regression with the specified hyperparameters was the optimal method. The active strategy (orange line) maintained a stable performance, ending with a 0.0% change. In contrast, the passive strategy (green line) experienced a decline of 1.48%. This result shows that while the active strategy did not generate gains, it effectively avoided the losses seen in the passive strategy, thus preserving the portfolio's value.\n",
    "\n",
    "<img src=\"data/BTC_1MIN_LR_SELL.jpg\" alt=\"BTC 1 MIN LR SELL\" width=\"1200\" height=\"700\">"
   ],
   "id": "c1d7b1bbc9c73729"
  },
  {
   "metadata": {},
   "cell_type": "markdown",
   "source": [
    "### BTC 1 MIN SVC SELL\n",
    "\n",
    "Best hyperparameters:\n",
    "- C: 0.8079144371903441\n",
    "- kernel: 'poly', 'gamma': 2.419502351485599\n",
    "\n",
    "<img src=\"data/BTC_1MIN_SVC_SELL.jpg\" alt=\"BTC 1 MIN SVC SELL\" width=\"1200\" height=\"700\">"
   ],
   "id": "df942e50545e17c"
  },
  {
   "metadata": {},
   "cell_type": "markdown",
   "source": [
    "### BTC 1 MIN XGBoost SELL\n",
    "\n",
    "Best hyperparameters:\n",
    "\n",
    "- n_estimators: 97\n",
    "- max_depth: 9\n",
    "- max_leaves: 9\n",
    "- learning_rate: 0.0006535930066528684\n",
    "- booster: 'dart', 'gamma': 1.3459142319404389e-05, 'reg_lambda': 1.8082211999936642e-08\n",
    "\n",
    "<img src=\"data/BTC_1MIN_XGB_SELL.jpg\" alt=\"BTC 1 MIN XGB SELL\" width=\"1200\" height=\"700\">"
   ],
   "id": "760f8ccc213f2621"
  },
  {
   "metadata": {},
   "cell_type": "markdown",
   "source": [
    "### BTC 5 MIN Logistic Regression BUY\n",
    "\n",
    "Best hyperparameters:\n",
    "- C: 1.0010377219690973e-10\n",
    "- fit_intercept: True\n",
    "- l1_ratio: 0.7447977558067383}\n",
    "\n",
    "With the help of Optuna, we identified Logistic Regression with the specified hyperparameters as the optimal method. The active strategy (orange line) maintained a stable performance, ending with a 0.0% change. In contrast, the passive strategy (green line) experienced a significant decline of 2.47%. This result highlights that the active strategy was effective in preserving the portfolio's value by avoiding the losses encountered by the passive strategy.\n",
    "\n",
    "<img src=\"data/BTC_5MINS_LR.jpg\" alt=\"BTC 5 MINS LR\" width=\"1200\" height=\"700\">"
   ],
   "id": "91c320b64f3a15e0"
  },
  {
   "metadata": {},
   "cell_type": "markdown",
   "source": [
    "### BTC 5 MIN Logistic Regression SELL\n",
    "\n",
    "Best hyperparameters:\n",
    "- C:  7.21776864149052e-07\n",
    "- fit_intercept: False\n",
    "- l1_ratio: 0.568323517441825\n",
    "\n",
    "Using Optuna, we identified that Logistic Regression with the specified hyperparameters was the optimal method. The active strategy (orange line) ended with a decline of 1.30%, while the passive strategy (green line) had a larger decline of 2.47%. This indicates that although the active strategy did incur some losses, it was still more effective than the passive strategy in preserving the portfolio's value by reducing the overall loss.\n",
    "\n",
    "<img src=\"data/BTC_5MINS_LR_SELL.jpg\" alt=\"BTC 5 MINS LR SELL\" width=\"1200\" height=\"700\">"
   ],
   "id": "c4fdf6aae915db23"
  },
  {
   "metadata": {},
   "cell_type": "markdown",
   "source": [
    "### BTC 5 MIN SVC BUY\n",
    "\n",
    "Best hyperparameters:\n",
    "- C: 1.1964163853576897\n",
    "- kernel: 'linear', 'gamma': 1.3507706199750324\n",
    "\n",
    "By using Optuna, we found that the best parameters for the SVC model with a 'linear' kernel and the specified hyperparameters were optimal for the active trading strategy. The active strategy (orange line) did not experience any change, maintaining a 0.0% performance, while the passive strategy (green line) showed a decline of 2.47%. This demonstrates that the active strategy, though not profitable, effectively avoided losses that the passive strategy incurred.\n",
    "\n",
    "<img src=\"data/BTC_5MINS_SVC.jpg\" alt=\"BTC 5 MINS SVC\" width=\"1200\" height=\"700\">"
   ],
   "id": "bb530a7834409d4d"
  },
  {
   "metadata": {},
   "cell_type": "markdown",
   "source": [
    "### BTC 5 MIN SVC SELL\n",
    "\n",
    "Best hyperparameters:\n",
    "- C:  1.4517295839808992\n",
    "- kernel: 'rbf', 'gamma': 0.6660301714587362\n",
    "\n",
    "Using Optuna, we determined the optimal parameters for the SVC model with an 'rbf' kernel. The active trading strategy based on these parameters (orange line) maintained a 0.0% change, while the passive strategy (green line) experienced a decrease of 2.47%. This result indicates that the active strategy effectively mitigated losses compared to the passive approach, despite not generating any profit.\n",
    "\n",
    "<img src=\"data/BTC_5MINS_SVC_SELL.jpg\" alt=\"BTC 5 MINS SVC SELL\" width=\"1200\" height=\"700\">"
   ],
   "id": "fc981039f92db598"
  },
  {
   "metadata": {},
   "cell_type": "markdown",
   "source": [
    "### BTC 5 MIN XGBoost BUY\n",
    "\n",
    "Best hyperparameters: \n",
    "- n_estimators: 119\n",
    "- max_depth: 5\n",
    "- max_leaves: 1\n",
    "- learning_rate: 0.0006514642107085987\n",
    "- booster: 'dart', 'gamma': 4.77191216498611e-06, 'reg_lambda': 0.0006833419540558705}\n",
    "\n",
    "For this model, the optimal parameters were found using Optuna to train an XGBoost classifier. The active strategy (green line) and the passive strategy (orange line) are compared in the chart. The active strategy did not generate any profits, maintaining a 0.0% change, whereas the passive strategy saw a decline of 2.47%. This indicates that the active strategy was able to mitigate losses more effectively compared to the passive strategy, even though it did not result in gains.\n",
    "\n",
    "<img src=\"data/BTC_5MIN_XGB.jpg\" alt=\"BTC 5 MIN XGB\" width=\"1200\" height=\"700\">"
   ],
   "id": "732358b412be7632"
  },
  {
   "metadata": {},
   "cell_type": "markdown",
   "source": [
    "### BTC 5 MIN XGBoost SELL\n",
    "\n",
    "Best hyperparameters: \n",
    "- n_estimators: 182\n",
    "- max_depth: 8\n",
    "- max_leaves: 3\n",
    "- learning_rate: 0.037375883907947265\n",
    "- booster: 'gblinear', 'gamma': 1.5244086549718191e-05, 'reg_lambda': 0.03583012486300724\n",
    "\n",
    "Using Optuna to optimize the XGBoost model for a sell strategy, the graph compares the active strategy (orange line) with the passive strategy (green line). The active strategy performed poorly, showing a decline of 31.39%, while the passive strategy showed a smaller decline of 2.47%. This indicates that the active sell strategy underperformed significantly compared to the passive strategy.\n",
    "\n",
    "<img src=\"data/BTC_5MIN_XGB_SELL.jpg\" alt=\"BTC 5 MIN XGB SELL\" width=\"1200\" height=\"700\">\n"
   ],
   "id": "55f97e2f0fd3ce40"
  },
  {
   "metadata": {},
   "cell_type": "markdown",
   "source": "## Stacking of all models",
   "id": "7e34761953749a3e"
  },
  {
   "metadata": {},
   "cell_type": "markdown",
   "source": [
    "### AAPL 1 MIN BUY\n",
    "\n",
    "<img src=\"data/AAPL_1MIN_ALL_BUY.jpg\" alt=\"APPL 1MIN ALL BUY\" width=\"1200\" height=\"700\">\n",
    "\n"
   ],
   "id": "228d6a735f80472e"
  },
  {
   "metadata": {},
   "cell_type": "markdown",
   "source": [
    "### AAPL 1 MIN SELL\n",
    "\n",
    "<img src=\"data/AAPL_1MIN_ALL_SELL.jpg\" alt=\"APPL 1MIN ALL SELL\" width=\"1200\" height=\"700\">\n",
    "\n"
   ],
   "id": "cf539f07d939de7a"
  },
  {
   "metadata": {},
   "cell_type": "markdown",
   "source": [
    "### AAPL 5 MIN\n",
    "\n",
    "<img src=\"data/AAPL_5MIN_ALL.jpg\" alt=\"APPL 5MIN ALL\" width=\"1200\" height=\"700\">\n",
    "\n"
   ],
   "id": "f4bea01766d0fe78"
  },
  {
   "metadata": {},
   "cell_type": "markdown",
   "source": [
    "### AAPL 5 MIN SELL\n",
    "\n",
    "<img src=\"data/AAPL_5MIN_ALL_SELL.jpg\" alt=\"APPL 5MIN ALL SELL\" width=\"1200\" height=\"700\">\n",
    "\n"
   ],
   "id": "73986efec08438ea"
  },
  {
   "metadata": {},
   "cell_type": "markdown",
   "source": [
    "### BTC 5 MIN SELL\n",
    "\n",
    "<img src=\"data/BTC_5MIN_ALL_SELL.jpg\" alt=\"BTC 5MIN ALL SELL\" width=\"1200\" height=\"700\">\n",
    "\n"
   ],
   "id": "318b4a0dd05eecde"
  }
 ],
 "metadata": {
  "kernelspec": {
   "display_name": "Python 3",
   "language": "python",
   "name": "python3"
  },
  "language_info": {
   "codemirror_mode": {
    "name": "ipython",
    "version": 2
   },
   "file_extension": ".py",
   "mimetype": "text/x-python",
   "name": "python",
   "nbconvert_exporter": "python",
   "pygments_lexer": "ipython2",
   "version": "2.7.6"
  }
 },
 "nbformat": 4,
 "nbformat_minor": 5
}
