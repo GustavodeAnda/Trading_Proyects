{
 "cells": [
  {
   "metadata": {},
   "cell_type": "markdown",
   "source": "# Technical Analysis\n",
   "id": "e473f1e87c50827d"
  },
  {
   "metadata": {},
   "cell_type": "markdown",
   "source": "The objective of this project is to create an algorithm that optimizes buy and sell signals as effectively as possible for trading using different models and strategies. We tested the code we created with two different assets: AAPL stock and BTC-USD cryptocurrency.\n",
   "id": "2930fa7806d12d91"
  },
  {
   "metadata": {},
   "cell_type": "markdown",
   "source": [
    "\n",
    "## Problem approach\n",
    "Starting with the description of the indicators we will be using and optimizing on our code:\n",
    "\n",
    "#### - RSI\n",
    "Measures the magnitude of recent price changes to evaluate overbought(~70) or oversold(~30) conditions, as well as the momentum the asset may carry.\n",
    "\n",
    "#### - Bollinger Bands\n",
    "Uses standard deviation and a simple moving average to create upper and lower bands around the price of an asset. These bands can indicate overbought or oversold conditions.\n",
    "\n",
    "#### - Moving Average Convergence Divergence (MACD)\n",
    "Is a trend-following indicator that show the relationship between two moving averages of a security's price. It helps us identify potential buy and sell signals, as well as trend directions. \n",
    " \n",
    "#### - Average True Range (ATR)\n",
    "Measures market volatility by decomposing the entire range of an asset price for a given period. Provides insights into the degree of price volatility and can be used for setting stop-loss orders, identifying breakouts, and gauging potential price movements.\n",
    "\n",
    "#### Why these indicators\n",
    "Using multiple indicators together can provide stronger signals and reduce the likelihood of false signals:  \n",
    "- ATR and Bollinger Bands help set stop-loss levels based on volatility, protecting trades from unexpected price movements. \n",
    "- RSI and Bollinger Bands help identify optimal entry and exit points by signaling overbought or oversold conditions.\n",
    "- MACD helps us identify trends and jump in or out of them when needed.\n",
    "\n",
    "\n"
   ],
   "id": "39240620a75d3f17"
  },
  {
   "metadata": {},
   "cell_type": "markdown",
   "source": "# Results",
   "id": "1d45895c33dd6bbc"
  },
  {
   "metadata": {},
   "cell_type": "markdown",
   "source": "We will first review the results obtained during the training phase of each data set:",
   "id": "c7d27b6f4de4a237"
  },
  {
   "metadata": {},
   "cell_type": "markdown",
   "source": [
    "### AAPL 5 min\n",
    "\n",
    "Best parameters for combination RSI: \n",
    "- Number of shares: 93, \n",
    "- Stop loss: 0.3797931715217154, Take profit: 0.2584377218497207 \n",
    "- RSI window: 33, RSI lower threshold: 30, RSI upper threshold: 81\n",
    "- Best value for combination RSI: 1407753.0336074033\n",
    "\n",
    "Best parameters for combination MACD\n",
    "- Number of shares: 75 \n",
    "- Stop loss: 0.29718898533564925, Take profit: 0.05115257833199657 \n",
    "- MACD slow window: 36, MACD fast window: 14, MACD sign window: 12\n",
    "- Best value for combination MACD: 1012000.3508789703\n",
    "\n",
    "Best parameters for combination Bollinger Bands:\n",
    "- Number of shares: 76\n",
    "- Stop loss: 0.307760402272414 , Take profit: 0.334223093486097\n",
    "- Bollinger window: 5\n",
    "- Best value for combination Bollinger Bands: 1000000.0\n",
    "\n",
    "Best parameters for combination ATR:\n",
    "- Number of shares: 63\n",
    "- Stop loss: 0.1907017123579254 , Take profit: 0.38852984257342726\n",
    "- ATR window: 10 \n",
    "- Best value for combination ATR: 1219133.1029144968\n",
    "\n",
    "Best parameters for combination RSI, MACD:\n",
    "- Number of shares: 79\n",
    "- Stop loss: 0.328347074901109 , Take profit: 0.33816068936004984\n",
    "- RSI window: 50, RSI lower threshold: 19, RSI upper threshold: 89 // MACD slow window: 22, MACD fast window: 8, MACD sing window: 17\n",
    "- Best value for combination RSI, MACD: 1022898.3645517541\n",
    "\n",
    "Best parameters for combination RSI, Bollinger Bands: \n",
    "- Number of shares: 13 \n",
    "- Stop loss: 0.13916050647114805, Take profit: 0.2897121413650737\n",
    "- RSI window: 50, RSI lower threshold: 13, RSI upper threshold: 83 // Bollinger window: 5\n",
    "- Best value for combination RSI, Bollinger Bands: 1000000.0\n",
    "\n",
    "Best parameters for combination RSI, ATR: \n",
    "- Number of shares: 80, \n",
    "- Stop loss: 0.30333361497362077, Take profit: 0.36489314497264835\n",
    "- RSI window: 32, RSI lower threshold: 10, RSI upper threshold: 87 // ATR window: 17\n",
    "- Best value for combination RSI, ATR: 1292134.8040309013\n",
    "\n",
    "Best parameters for combination MACD, Bollinger Bands: \n",
    "- Number of shares: 69 \n",
    "- Stop loss: 0.18608128049726455, Take profit: 0.3495878451287756\n",
    "- Bollinger window: 21 // MACD slow window: 40, MACD fast window: 15, MACD sign window: 12\n",
    "- Best value for combination MACD, Bollinger Bands: 921204.4405764875\n",
    "\n",
    "Best parameters for combination MACD, ATR:\n",
    "- Number of shares: 60\n",
    "- Stop loss: 0.3707671646579437, Take profit: 0.3453703946902256\n",
    "- MACD slow window: 34, MACD fast window: 9, MACD sign window: 9 // ATR window: 19\n",
    "- Best value for combination MACD, ATR: 966563.0178017139\n",
    "\n",
    "Best parameters for combination Bollinger Bands, ATR:\n",
    "- Number of shares: 83\n",
    "- Stop loss: 0.23539049483606714, Take profit: 0.36979624458081817\n",
    "-  Bollinger window: 25 // ATR window: 18\n",
    "- Best value for combination Bollinger Bands, ATR: 1249134.1553423258\n",
    "\n",
    "Best parameters for combination RSI, MACD, Bollinger Bands:\n",
    "\n",
    "\n",
    "\n",
    "\n"
   ],
   "id": "52cb6f1afb1e927d"
  },
  {
   "metadata": {},
   "cell_type": "markdown",
   "source": "### AAPL 1 min",
   "id": "964a27e90f0b4eb1"
  },
  {
   "metadata": {},
   "cell_type": "markdown",
   "source": "### BTC 5 min",
   "id": "473b87e98bcbd25a"
  },
  {
   "metadata": {},
   "cell_type": "markdown",
   "source": "### BTC 1 min",
   "id": "df4da92130b25d6d"
  }
 ],
 "metadata": {
  "kernelspec": {
   "display_name": "Python 3",
   "language": "python",
   "name": "python3"
  },
  "language_info": {
   "codemirror_mode": {
    "name": "ipython",
    "version": 2
   },
   "file_extension": ".py",
   "mimetype": "text/x-python",
   "name": "python",
   "nbconvert_exporter": "python",
   "pygments_lexer": "ipython2",
   "version": "2.7.6"
  }
 },
 "nbformat": 4,
 "nbformat_minor": 5
}
