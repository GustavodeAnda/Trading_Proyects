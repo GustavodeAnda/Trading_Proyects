{
 "cells": [
  {
   "metadata": {},
   "cell_type": "markdown",
   "source": "# Technical Analysis\n",
   "id": "e473f1e87c50827d"
  },
  {
   "metadata": {},
   "cell_type": "markdown",
   "source": "The objective of this project is to create an algorithm that optimizes buy and sell signals as effectively as possible for trading using different models and strategies. We tested the code we created with two different assets: AAPL stock and BTC-USD cryptocurrency.\n",
   "id": "2930fa7806d12d91"
  },
  {
   "metadata": {},
   "cell_type": "markdown",
   "source": [
    "\n",
    "## Problem approach\n",
    "Starting with the description of the indicators we will be using and optimizing on our code:\n",
    "\n",
    "#### - RSI\n",
    "Measures the magnitude of recent price changes to evaluate overbought(~70) or oversold(~30) conditions, as well as the momentum the asset may carry.\n",
    "\n",
    "#### - Bollinger Bands\n",
    "Uses standard deviation and a simple moving average to create upper and lower bands around the price of an asset. These bands can indicate overbought or oversold conditions.\n",
    "\n",
    "#### - Moving Average Convergence Divergence (MACD)\n",
    "Is a trend-following indicator that show the relationship between two moving averages of a security's price. It helps us identify potential buy and sell signals, as well as trend directions. \n",
    " \n",
    "#### - Average True Range (ATR)\n",
    "Measures market volatility by decomposing the entire range of an asset price for a given period. Provides insights into the degree of price volatility and can be used for setting stop-loss orders, identifying breakouts, and gauging potential price movements.\n",
    "\n",
    "#### Why these indicators\n",
    "Using multiple indicators together can provide stronger signals and reduce the likelihood of false signals:  \n",
    "- ATR and Bollinger Bands help set stop-loss levels based on volatility, protecting trades from unexpected price movements. \n",
    "- RSI and Bollinger Bands help identify optimal entry and exit points by signaling overbought or oversold conditions.\n",
    "- MACD helps us identify trends and jump in or out of them when needed.\n",
    "\n",
    "\n"
   ],
   "id": "39240620a75d3f17"
  },
  {
   "metadata": {},
   "cell_type": "markdown",
   "source": [
    "# Training results\n",
    "We will first review the results obtained during the training phase for each data set:"
   ],
   "id": "1d45895c33dd6bbc"
  },
  {
   "metadata": {},
   "cell_type": "markdown",
   "source": [
    "### AAPL 5 min\n",
    "\n",
    "Combination RSI:\n",
    "- Portfolio value: 1407753.0336074033\n",
    "- Number of shares: 93\n",
    "- Stop loss: 0.3797931715217154, Take profit: 0.2584377218497207\n",
    "- RSI window: 33\n",
    "- RSI lower threshold: 30\n",
    "- RSI upper threshold: 81"
   ],
   "id": "52cb6f1afb1e927d"
  },
  {
   "metadata": {},
   "cell_type": "markdown",
   "source": "### AAPL 1 min",
   "id": "964a27e90f0b4eb1"
  },
  {
   "metadata": {},
   "cell_type": "markdown",
   "source": [
    "### BTC 5 min \n",
    "\n",
    "Combination RSI:\n",
    "- Portfolio value: 1891160.140288772\n",
    "- Number of shares: 6.351931080852851\n",
    "- Stop loss: 0.2202772870427661\n",
    "- Take_profit: 0.37648633223981687\n",
    "- RSI window: 49\n",
    "- RSI lower threshold: 29\n",
    "- RSI upper threshold: 88"
   ],
   "id": "473b87e98bcbd25a"
  },
  {
   "metadata": {},
   "cell_type": "markdown",
   "source": [
    "### BTC 1 min\n",
    "\n",
    "Combination: MACD\n",
    "- Portfolio value: 1581089.0236697514,\n",
    "- Number of shares: 6.0156138225684685,\n",
    "- Stop loss: 0.25350468439149887, Take profit: 0.29385546248739247\n",
    "- MACD slow window: 30\n",
    "- MACD fast window: 11\n",
    "- MACD sign window: 15"
   ],
   "id": "df4da92130b25d6d"
  },
  {
   "metadata": {},
   "cell_type": "markdown",
   "source": [
    "# Testing results\n",
    "Now, we will review the results obtained during the tests with each data set: "
   ],
   "id": "eca3e7956cf86714"
  },
  {
   "metadata": {},
   "cell_type": "markdown",
   "source": "### AAPL 5 minutes",
   "id": "b40d36266364c56e"
  },
  {
   "metadata": {},
   "cell_type": "markdown",
   "source": "### AAPL 1 min",
   "id": "642b8eb31fdc6e98"
  },
  {
   "metadata": {},
   "cell_type": "markdown",
   "source": "### BTC 5 min ",
   "id": "22257f4eaae9882c"
  },
  {
   "metadata": {},
   "cell_type": "markdown",
   "source": "### BTC 1 min ",
   "id": "6014cffbf88ac548"
  },
  {
   "metadata": {},
   "cell_type": "markdown",
   "source": "# Conclusions\n",
   "id": "ff16a85cf6fb970a"
  }
 ],
 "metadata": {
  "kernelspec": {
   "display_name": "Python 3",
   "language": "python",
   "name": "python3"
  },
  "language_info": {
   "codemirror_mode": {
    "name": "ipython",
    "version": 2
   },
   "file_extension": ".py",
   "mimetype": "text/x-python",
   "name": "python",
   "nbconvert_exporter": "python",
   "pygments_lexer": "ipython2",
   "version": "2.7.6"
  }
 },
 "nbformat": 4,
 "nbformat_minor": 5
}
