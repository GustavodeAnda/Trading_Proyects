{
 "cells": [
  {
   "metadata": {},
   "cell_type": "markdown",
   "source": "# Technical Analysis\n",
   "id": "e473f1e87c50827d"
  },
  {
   "metadata": {},
   "cell_type": "markdown",
   "source": "The objective of this project is to create an algorithm that optimizes buy and sell signals as effectively as possible for trading using different models and strategies. We tested the code we created with two different assets: AAPL stock and BTC-USD cryptocurrency.\n",
   "id": "2930fa7806d12d91"
  },
  {
   "metadata": {},
   "cell_type": "markdown",
   "source": [
    "\n",
    "## Problem approach\n",
    "Starting with the description of the indicators we will be using and optimizing on our code:\n",
    "\n",
    "#### - RSI\n",
    "Measures the magnitude of recent price changes to evaluate overbought(~70) or oversold(~30) conditions, as well as the momentum the asset may carry.\n",
    "\n",
    "#### - Bollinger Bands\n",
    "Uses standard deviation and a simple moving average to create upper and lower bands around the price of an asset. These bands can indicate overbought or oversold conditions.\n",
    "\n",
    "#### - Moving Average Convergence Divergence (MACD)\n",
    "Is a trend-following indicator that show the relationship between two moving averages of a security's price. It helps us identify potential buy and sell signals, as well as trend directions. \n",
    " \n",
    "#### - Average True Range (ATR)\n",
    "Measures market volatility by decomposing the entire range of an asset price for a given period. Provides insights into the degree of price volatility and can be used for setting stop-loss orders, identifying breakouts, and gauging potential price movements.\n",
    "\n",
    "#### Why these indicators\n",
    "Using multiple indicators together can provide stronger signals and reduce the likelihood of false signals:  \n",
    "- ATR and Bollinger Bands help set stop-loss levels based on volatility, protecting trades from unexpected price movements. \n",
    "- RSI and Bollinger Bands help identify optimal entry and exit points by signaling overbought or oversold conditions.\n",
    "- MACD helps us identify trends and jump in or out of them when needed.\n",
    "\n",
    "\n"
   ],
   "id": "39240620a75d3f17"
  },
  {
   "metadata": {},
   "cell_type": "markdown",
   "source": [
    "# Training results\n",
    "We will first review the results obtained during the training phase for each data set, these are all the best outcomes having made the trials for each possible combination of our indicators:"
   ],
   "id": "1d45895c33dd6bbc"
  },
  {
   "metadata": {},
   "cell_type": "markdown",
   "source": [
    "### AAPL 5 min\n",
    "\n",
    "Combination RSI:\n",
    "- Portfolio value: 1,407,753.0336074033\n",
    "- Number of shares: 93\n",
    "- Stop loss: 0.3797931715217154, Take profit: 0.2584377218497207\n",
    "- RSI window: 33\n",
    "- RSI lower threshold: 30\n",
    "- RSI upper threshold: 81"
   ],
   "id": "52cb6f1afb1e927d"
  },
  {
   "metadata": {},
   "cell_type": "markdown",
   "source": "### AAPL 1 min",
   "id": "964a27e90f0b4eb1"
  },
  {
   "metadata": {},
   "cell_type": "markdown",
   "source": [
    "### BTC 5 min \n",
    "\n",
    "Combination RSI:\n",
    "- Portfolio value: 1,891,160.140288772\n",
    "- Number of shares: 6.351931080852851\n",
    "- Stop loss: 0.2202772870427661\n",
    "- Take_profit: 0.37648633223981687\n",
    "- RSI window: 49\n",
    "- RSI lower threshold: 29\n",
    "- RSI upper threshold: 88"
   ],
   "id": "473b87e98bcbd25a"
  },
  {
   "metadata": {},
   "cell_type": "markdown",
   "source": [
    "### BTC 1 min\n",
    "\n",
    "Combination: MACD\n",
    "- Portfolio value: 1,581,089.0236697514,\n",
    "- Number of shares: 6.0156138225684685,\n",
    "- Stop loss: 0.25350468439149887, Take profit: 0.29385546248739247\n",
    "- MACD slow window: 30\n",
    "- MACD fast window: 11\n",
    "- MACD sign window: 15"
   ],
   "id": "df4da92130b25d6d"
  },
  {
   "metadata": {},
   "cell_type": "markdown",
   "source": [
    "# Testing results\n",
    "Now, we will review the results obtained during the tests, as well as the behaviour of an active and passive strategy for each data set:"
   ],
   "id": "eca3e7956cf86714"
  },
  {
   "metadata": {},
   "cell_type": "markdown",
   "source": [
    "### AAPL 5 minutes\n",
    "\n",
    "The graph below shows the behaviour of the active and passive strategy with AAPL. Here we can see the active strategy outperform the passive by around 4%. It's interesting to see at the start of the graph a period where the benchmark out shadowed the active strategy and that it didn't replicate the move from AAPL, that begins shortly after around the 2,000 mark and from there, the active strategy always outperformed the benchmark.\n",
    "\n",
    "<img src=\"official_second_proyect/data/AAPL 5 MIN.png\" alt=\"AAPL 5 minutes\" width=\"1200\" height=\"700\">"
   ],
   "id": "b40d36266364c56e"
  },
  {
   "metadata": {},
   "cell_type": "markdown",
   "source": "### AAPL 1 min",
   "id": "642b8eb31fdc6e98"
  },
  {
   "metadata": {},
   "cell_type": "markdown",
   "source": [
    "### BTC 5 min \n",
    "\n",
    "The graph below shows the behaviour of the active and passive strategy with BTC. There´s a notorious difference between the two strategies, where the clear winner is the passive strategy in this case. Buy and hold.\n",
    "\n",
    "<img src=\"official_second_proyect/data/BTC 5 MIN.png\" alt=\"BTC 5 minutes\" width=\"1200\" height=\"700\">"
   ],
   "id": "22257f4eaae9882c"
  },
  {
   "metadata": {},
   "cell_type": "markdown",
   "source": [
    "### BTC 1 min \n",
    "\n",
    "The graph below shows the behaviour of the active and passive strategy with BTC. Notice that the passive strategy gives us more than the active strategy, which is also the case of the previous BTC graph, although the active strategy for this graph replicates better the asset's behaviour, it is better in this case to buy and wait, even though there are times when the benchmark did better than the active strategy, in the end the bes option is to buy and hold. \n",
    "\n",
    "<img src=\"official_second_proyect/data/BTC 1 MIN.png\" alt=\"BTC 1 minutes\" width=\"1200\" height=\"700\">\n"
   ],
   "id": "6014cffbf88ac548"
  },
  {
   "metadata": {},
   "cell_type": "markdown",
   "source": [
    "# Conclusions\n",
    "\n",
    "During the training phase, the benchmark was consistently outperformed by our strategy, which, for all four datasets, was composed of only one (1) indicator. We initially anticipated that more complex strategies would emerge, but the results indicate that simplicity can be effective, at least during the training phase. This outcome suggests that a minimalistic approach might often be enough, challenging the common assumption that more indicators lead to better performance.\n",
    "\n",
    "During the testing phase, for both BTC datasets, the best strategy turned out to be simply buying and holding. Given the high volatility of this asset, this result is not entirely surprising, though we initially believed an active strategy might outperform the benchmark. In contrast, for the AAPL datasets, an active strategy was required to surpass the benchmark. This result aligned with our expectations for this asset. However, the most effective strategy still involved the use of just one (1) indicator, rather than a combination.\n",
    "\n",
    "These findings lead us to conclude that sometimes simple models can effectively accomplish the task at hand, proving to be as efficient as many more complex and robust models. This emphasizes the value of simplicity in model design and suggests that more elaborate strategies do not necessarily yield better results. Thus, our research underscores the importance of considering both simplicity and complexity in the development of trading strategies, recognizing that a straightforward approach can often be just as powerful.\n"
   ],
   "id": "ff16a85cf6fb970a"
  }
 ],
 "metadata": {
  "kernelspec": {
   "display_name": "Python 3",
   "language": "python",
   "name": "python3"
  },
  "language_info": {
   "codemirror_mode": {
    "name": "ipython",
    "version": 2
   },
   "file_extension": ".py",
   "mimetype": "text/x-python",
   "name": "python",
   "nbconvert_exporter": "python",
   "pygments_lexer": "ipython2",
   "version": "2.7.6"
  }
 },
 "nbformat": 4,
 "nbformat_minor": 5
}
