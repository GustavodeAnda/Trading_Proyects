{
 "cells": [
  {
   "metadata": {},
   "cell_type": "markdown",
   "source": "# Technical Analysis\n",
   "id": "e473f1e87c50827d"
  },
  {
   "metadata": {},
   "cell_type": "markdown",
   "source": "The objective of this project is to create an algorithm that optimizes buy and sell signals as effectively as possible for trading using different models and strategies. We tested the code we created with two different assets: AAPL stock and BTC-USD cryptocurrency.\n",
   "id": "2930fa7806d12d91"
  },
  {
   "metadata": {},
   "cell_type": "markdown",
   "source": [
    "\n",
    "## Problem approach\n",
    "Starting with the description of the indicators we will be using and optimizing on our code:\n",
    "\n",
    "#### RSI\n",
    "Measures the magnitude of recent price changes to evaluate overbought(~70) or oversold(~30) conditions, as well as the momentum the asset may carry.\n",
    "\n",
    "#### Bollinger Bands\n",
    "Uses standard deviation and a simple moving average to create upper and lower bands around the price of an asset. These bands can indicate overbought or oversold conditions.\n",
    "\n",
    "#### Moving Average Convergence Divergence (MACD)\n",
    "Is a trend-following indicator that show the relationship between two moving averages of a security's price. It helps us identify potential buy and sell signals, as well as trend directions. \n",
    " \n",
    "#### Average True Range (ATR)\n",
    "Measures market volatility by decomposing the entire range of an asset price for a given period. Provides insights into the degree of price volatility and can be used for setting stop-loss orders, identifying breakouts, and gauging potential price movements.\n",
    "\n",
    "#### Why these indicators\n",
    "The combination of these indicators can confirm the strength and direction of a trend, as well as entry and exit points which will be used to build our two-asset portfolio.\n",
    "\n"
   ],
   "id": "39240620a75d3f17"
  },
  {
   "metadata": {},
   "cell_type": "markdown",
   "source": "",
   "id": "1d45895c33dd6bbc"
  }
 ],
 "metadata": {
  "kernelspec": {
   "display_name": "Python 3",
   "language": "python",
   "name": "python3"
  },
  "language_info": {
   "codemirror_mode": {
    "name": "ipython",
    "version": 2
   },
   "file_extension": ".py",
   "mimetype": "text/x-python",
   "name": "python",
   "nbconvert_exporter": "python",
   "pygments_lexer": "ipython2",
   "version": "2.7.6"
  }
 },
 "nbformat": 4,
 "nbformat_minor": 5
}
