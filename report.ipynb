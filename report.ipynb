{
 "cells": [
  {
   "metadata": {},
   "cell_type": "markdown",
   "source": "# Technical Analysis\n",
   "id": "e473f1e87c50827d"
  },
  {
   "metadata": {},
   "cell_type": "markdown",
   "source": "The objective of this project is to create an algorithm that optimizes buy and sell signals as effectively as possible for trading using different models and strategies. We tested the code we created with two different assets: AAPL stock and BTC-USD cryptocurrency.\n",
   "id": "2930fa7806d12d91"
  },
  {
   "metadata": {},
   "cell_type": "markdown",
   "source": [
    "\n",
    "## Problem approach\n",
    "Starting with the description of the indicators we will be using and optimizing on our code:\n",
    "\n",
    "#### RSI\n",
    "Measures the magnitude of recent price changes to evaluate overbought(~70) or oversold(~30) conditions, as well as the momentum the asset may carry.\n",
    "\n",
    "#### Bollinger Bands\n",
    "Uses standard deviation and a simple moving average to create upper and lower bands around the price of an asset. These bands can indicate overbought or oversold conditions.\n",
    "\n",
    "#### Stochastic indicator K\n",
    " Compares a particular closing price of a security to a range of its prices over a certain period of time.\n",
    " \n",
    "#### Chaikin Money Flow (CMF)\n",
    "Measures the accumulation and distribution of a security over a specified period. It combines price and volume to show how money might be flowing in or out of a stock. \n",
    "\n",
    "#### Why these indicators\n",
    "The combination of these indicators can confirm the strength and direction of a trend, as well as entry and exit points which will be used to build our two-asset portfolio.\n",
    "\n"
   ],
   "id": "39240620a75d3f17"
  },
  {
   "metadata": {},
   "cell_type": "markdown",
   "source": "",
   "id": "1d45895c33dd6bbc"
  }
 ],
 "metadata": {
  "kernelspec": {
   "display_name": "Python 3",
   "language": "python",
   "name": "python3"
  },
  "language_info": {
   "codemirror_mode": {
    "name": "ipython",
    "version": 2
   },
   "file_extension": ".py",
   "mimetype": "text/x-python",
   "name": "python",
   "nbconvert_exporter": "python",
   "pygments_lexer": "ipython2",
   "version": "2.7.6"
  }
 },
 "nbformat": 4,
 "nbformat_minor": 5
}
