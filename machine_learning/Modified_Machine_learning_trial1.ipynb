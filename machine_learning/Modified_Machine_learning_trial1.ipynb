{
 "cells": [
  {
   "cell_type": "code",
   "execution_count": 9,
   "id": "1433f1c0",
   "metadata": {},
   "outputs": [
    {
     "name": "stdout",
     "output_type": "stream",
     "text": [
      "Num GPUs Available:  0\n",
      "Using device: cpu\n",
      "Number of CPU cores available: 16\n"
     ]
    }
   ],
   "source": [
    "\n",
    "import tensorflow as tf\n",
    "import torch\n",
    "import multiprocessing\n",
    "\n",
    "# Verificar y configurar TensorFlow para usar GPU\n",
    "print(\"Num GPUs Available: \", len(tf.config.experimental.list_physical_devices('GPU')))\n",
    "if len(tf.config.experimental.list_physical_devices('GPU')) > 0:\n",
    "    tf.config.experimental.set_memory_growth(tf.config.experimental.list_physical_devices('GPU')[0], True)\n",
    "\n",
    "# Verificar y configurar PyTorch para usar GPU\n",
    "device = torch.device(\"cuda\" if torch.cuda.is_available() else \"cpu\")\n",
    "print(\"Using device:\", device)\n",
    "\n",
    "# Optimización del uso del procesador\n",
    "num_workers = multiprocessing.cpu_count()\n",
    "print(\"Number of CPU cores available:\", num_workers)\n",
    "\n"
   ]
  },
  {
   "cell_type": "markdown",
   "id": "a2990f81-5ea8-4f00-9fd1-e59eb82b7259",
   "metadata": {},
   "source": [
    "## Importar datos"
   ]
  },
  {
   "cell_type": "code",
   "execution_count": 12,
   "id": "68490589-3b69-4891-ab58-092fa4d3a704",
   "metadata": {
    "ExecuteTime": {
     "end_time": "2024-06-18T01:47:59.521883Z",
     "start_time": "2024-06-18T01:47:56.888291Z"
    }
   },
   "outputs": [],
   "source": [
    "import pandas as pd\n",
    "import numpy as np\n",
    "import matplotlib.pyplot as plt\n",
    "from sklearn.linear_model import LogisticRegression, LinearRegression\n",
    "from sklearn.model_selection import train_test_split\n",
    "from sklearn.metrics import confusion_matrix, mean_squared_error\n",
    "import ta\n",
    "from sklearn.ensemble import RandomForestClassifier\n",
    "from sklearn.svm import SVC\n",
    "from xgboost import XGBClassifier\n",
    "from sklearn.metrics import f1_score"
   ]
  },
  {
   "cell_type": "code",
   "execution_count": 13,
   "id": "5b7d1095-786e-4f12-b37d-b4fb4dd4e485",
   "metadata": {
    "ExecuteTime": {
     "end_time": "2024-06-18T01:47:59.804356Z",
     "start_time": "2024-06-18T01:47:59.521883Z"
    }
   },
   "outputs": [],
   "source": [
    "from sklearn.metrics import accuracy_score\n",
    "import optuna"
   ]
  },
  {
   "cell_type": "code",
   "execution_count": 14,
   "id": "d1ca3f0d-63d2-4780-8352-6adeefd86163",
   "metadata": {
    "ExecuteTime": {
     "end_time": "2024-06-18T01:47:59.808501Z",
     "start_time": "2024-06-18T01:47:59.804356Z"
    }
   },
   "outputs": [],
   "source": [
    "list_of_equity = [\n",
    "    \"aapl_5m_train.csv\",\n",
    "    \"aapl_project_1m_test.csv\",\n",
    "    \"aapl_project_1m_train.csv\",\n",
    "    \"aapl_project_test.csv\",\n",
    "    \"aapl_project_train.csv\",\n",
    "    \"btc_project_1m_test.csv\",\n",
    "    \"btc_project_1m_train.csv\",\n",
    "    \"btc_project_test.csv\",\n",
    "    \"btc_project_train.csv\"\n",
    "]"
   ]
  },
  {
   "cell_type": "code",
   "execution_count": 15,
   "id": "c8114d5a-efe6-4e74-9822-cd0d38b6df64",
   "metadata": {
    "ExecuteTime": {
     "end_time": "2024-06-18T01:47:59.826496Z",
     "start_time": "2024-06-18T01:47:59.811763Z"
    }
   },
   "outputs": [],
   "source": [
    "def reading_files(list_of_files : str):\n",
    "    \"\"\"\n",
    "    list of files is goint to be a list where all the files need \n",
    "    to be written as a string\n",
    "    \"\"\"\n",
    "\n",
    "    dict_files = dict()\n",
    "    for file in list_of_files:\n",
    "        dict_files[file] = pd.read_csv(file)\n",
    "    return dict_files"
   ]
  },
  {
   "cell_type": "code",
   "execution_count": 16,
   "id": "1474b7cf-ba5d-4cb4-bbd3-e393992705e1",
   "metadata": {
    "ExecuteTime": {
     "end_time": "2024-06-18T01:48:00.560783Z",
     "start_time": "2024-06-18T01:47:59.826496Z"
    }
   },
   "outputs": [
    {
     "data": {
      "text/html": [
       "<div>\n",
       "<style scoped>\n",
       "    .dataframe tbody tr th:only-of-type {\n",
       "        vertical-align: middle;\n",
       "    }\n",
       "\n",
       "    .dataframe tbody tr th {\n",
       "        vertical-align: top;\n",
       "    }\n",
       "\n",
       "    .dataframe thead th {\n",
       "        text-align: right;\n",
       "    }\n",
       "</style>\n",
       "<table border=\"1\" class=\"dataframe\">\n",
       "  <thead>\n",
       "    <tr style=\"text-align: right;\">\n",
       "      <th></th>\n",
       "      <th>Timestamp</th>\n",
       "      <th>Gmtoffset</th>\n",
       "      <th>Datetime</th>\n",
       "      <th>Open</th>\n",
       "      <th>High</th>\n",
       "      <th>Low</th>\n",
       "      <th>Close</th>\n",
       "      <th>Volume</th>\n",
       "    </tr>\n",
       "  </thead>\n",
       "  <tbody>\n",
       "    <tr>\n",
       "      <th>0</th>\n",
       "      <td>1654090200</td>\n",
       "      <td>0</td>\n",
       "      <td>2022-06-01 13:30:00</td>\n",
       "      <td>149.899993</td>\n",
       "      <td>150.600006</td>\n",
       "      <td>149.880004</td>\n",
       "      <td>150.539993</td>\n",
       "      <td>4474349.0</td>\n",
       "    </tr>\n",
       "    <tr>\n",
       "      <th>1</th>\n",
       "      <td>1654090500</td>\n",
       "      <td>0</td>\n",
       "      <td>2022-06-01 13:35:00</td>\n",
       "      <td>150.529998</td>\n",
       "      <td>151.080001</td>\n",
       "      <td>150.289993</td>\n",
       "      <td>150.500000</td>\n",
       "      <td>2181281.0</td>\n",
       "    </tr>\n",
       "    <tr>\n",
       "      <th>2</th>\n",
       "      <td>1654090800</td>\n",
       "      <td>0</td>\n",
       "      <td>2022-06-01 13:40:00</td>\n",
       "      <td>150.500000</td>\n",
       "      <td>150.889999</td>\n",
       "      <td>150.270004</td>\n",
       "      <td>150.729995</td>\n",
       "      <td>1622128.0</td>\n",
       "    </tr>\n",
       "    <tr>\n",
       "      <th>3</th>\n",
       "      <td>1654091100</td>\n",
       "      <td>0</td>\n",
       "      <td>2022-06-01 13:45:00</td>\n",
       "      <td>150.740005</td>\n",
       "      <td>151.520004</td>\n",
       "      <td>150.500000</td>\n",
       "      <td>150.860000</td>\n",
       "      <td>2034927.0</td>\n",
       "    </tr>\n",
       "    <tr>\n",
       "      <th>4</th>\n",
       "      <td>1654091400</td>\n",
       "      <td>0</td>\n",
       "      <td>2022-06-01 13:50:00</td>\n",
       "      <td>150.869995</td>\n",
       "      <td>151.509994</td>\n",
       "      <td>150.759994</td>\n",
       "      <td>151.389404</td>\n",
       "      <td>1379313.0</td>\n",
       "    </tr>\n",
       "  </tbody>\n",
       "</table>\n",
       "</div>"
      ],
      "text/plain": [
       "    Timestamp  Gmtoffset             Datetime        Open        High  \\\n",
       "0  1654090200          0  2022-06-01 13:30:00  149.899993  150.600006   \n",
       "1  1654090500          0  2022-06-01 13:35:00  150.529998  151.080001   \n",
       "2  1654090800          0  2022-06-01 13:40:00  150.500000  150.889999   \n",
       "3  1654091100          0  2022-06-01 13:45:00  150.740005  151.520004   \n",
       "4  1654091400          0  2022-06-01 13:50:00  150.869995  151.509994   \n",
       "\n",
       "          Low       Close     Volume  \n",
       "0  149.880004  150.539993  4474349.0  \n",
       "1  150.289993  150.500000  2181281.0  \n",
       "2  150.270004  150.729995  1622128.0  \n",
       "3  150.500000  150.860000  2034927.0  \n",
       "4  150.759994  151.389404  1379313.0  "
      ]
     },
     "execution_count": 16,
     "metadata": {},
     "output_type": "execute_result"
    }
   ],
   "source": [
    "files = reading_files(list_of_equity)\n",
    "data = files[\"aapl_project_train.csv\"]\n",
    "data.head()"
   ]
  },
  {
   "cell_type": "markdown",
   "id": "400763e7-83d3-49ee-81d1-9864f24e90b9",
   "metadata": {},
   "source": [
    "## Indicadores"
   ]
  },
  {
   "cell_type": "code",
   "execution_count": 17,
   "id": "dad77727-3d36-4e5d-8a67-68f8e029778f",
   "metadata": {
    "ExecuteTime": {
     "end_time": "2024-06-18T01:48:00.595529Z",
     "start_time": "2024-06-18T01:48:00.560783Z"
    }
   },
   "outputs": [],
   "source": [
    "data_clean = data.loc[:, [\"Close\"]]\n",
    "data_clean[\"Y\"] = data_clean.shift(-15)\n",
    "data_clean[\"Close_t1\"] = data.loc[:, [\"Close\"]].shift(1)\n",
    "data_clean[\"Close_t2\"] = data.loc[:, [\"Close\"]].shift(2)\n",
    "data_clean[\"Close_t3\"] = data.loc[:, [\"Close\"]].shift(3)\n",
    "data_clean[\"Close_t4\"] = data.loc[:, [\"Close\"]].shift(4)\n",
    "data_clean[\"Close_t5\"] = data.loc[:, [\"Close\"]].shift(5)\n",
    "data_clean[\"rsi_10\"] = ((ta.momentum.RSIIndicator(data[\"Close\"], window=10)).rsi())\n",
    "data_clean[\"rsi_20\"] = ((ta.momentum.RSIIndicator(data[\"Close\"], window=20)).rsi())\n",
    "data_clean[\"rsi_30\"] = ((ta.momentum.RSIIndicator(data[\"Close\"], window=30)).rsi())\n",
    "data_clean[\"macd_10_24_7\"] = ((ta.trend.MACD(close=data[\"Close\"], window_slow=24, window_fast=10, window_sign=7)).macd())\n",
    "data_clean[\"macd_12_26_9\"] = ((ta.trend.MACD(close=data_clean[\"Close\"], window_slow=26, window_fast=12, window_sign=9)).macd())\n",
    "data_clean[\"macd_5_35_5\"] = ((ta.trend.MACD(close=data_clean[\"Close\"], window_slow=35, window_fast=5, window_sign=5)).macd())\n",
    "\n",
    "### bollinger bands\n",
    "bollinger_20_2 = ta.volatility.BollingerBands(close=data_clean[\"Close\"], window=20, window_dev=2)\n",
    "data_clean[\"bollinger_20_2_hband\"] = bollinger_20_2.bollinger_hband()\n",
    "data_clean[\"bollinger_20_2_lband\"] = bollinger_20_2.bollinger_lband()\n",
    "data_clean[\"bollinger_20_2_mavg\"] = bollinger_20_2.bollinger_mavg()\n",
    "\n",
    "bollinger_10_1_5 = ta.volatility.BollingerBands(close=data_clean[\"Close\"], window=10, window_dev=1.5)\n",
    "data_clean[\"bollinger_10_1_5_hband\"] = bollinger_10_1_5.bollinger_hband()\n",
    "data_clean[\"bollinger_10_1_5_lband\"] = bollinger_10_1_5.bollinger_lband()\n",
    "data_clean[\"bollinger_10_1_5_mavg\"] = bollinger_10_1_5.bollinger_mavg()\n",
    "\n",
    "bollinger_50_2_5 = ta.volatility.BollingerBands(close=data_clean[\"Close\"], window=50, window_dev=2.5)\n",
    "data_clean[\"bollinger_50_2_5_hband\"] = bollinger_50_2_5.bollinger_hband()\n",
    "data_clean[\"bollinger_50_2_5_lband\"] = bollinger_50_2_5.bollinger_lband()\n",
    "data_clean[\"bollinger_50_2_5_mavg\"] = bollinger_50_2_5.bollinger_mavg()\n",
    "data_clean = data_clean.dropna()\n",
    "\n",
    "# data_clean[\"atr_14\"] = (ta.volatility.AverageTrueRange(high=data[\"High\"], low=data[\"Low\"], close=data[\"Close\"], window=14)).average_true_range()\n",
    "# data_clean[\"atr_10\"] = (ta.volatility.AverageTrueRange(high=data[\"High\"], low=data[\"Low\"], close=data[\"Close\"], window=10)).average_true_range()\n",
    "# data_clean[\"atr_20\"] = (ta.volatility.AverageTrueRange(high=data[\"High\"], low=data[\"Low\"], close=data[\"Close\"], window=20)).average_true_range()\n"
   ]
  },
  {
   "cell_type": "markdown",
   "id": "5a84c88b-3266-4d14-b107-9ba54c3545e0",
   "metadata": {},
   "source": [
    "## Visualización en plotly"
   ]
  },
  {
   "cell_type": "code",
   "execution_count": 18,
   "id": "4b31d93e-4052-4101-8944-376856ee699d",
   "metadata": {
    "ExecuteTime": {
     "end_time": "2024-06-18T01:48:00.600224Z",
     "start_time": "2024-06-18T01:48:00.595529Z"
    }
   },
   "outputs": [],
   "source": [
    "# import plotly.graph_objs as go\n",
    "# import plotly.io as pio\n",
    "\n",
    "# # Graficar Bandas de Bollinger\n",
    "# fig = go.Figure()\n",
    "\n",
    "# # Graficar el precio de cierre\n",
    "# fig.add_trace(go.Scatter(x=data_clean.index, y=data_clean[\"Close\"], mode='lines', name='Close', line=dict(color='blue')))\n",
    "\n",
    "# # Graficar las Bandas de Bollinger para la configuración 20, 2\n",
    "# fig.add_trace(go.Scatter(x=data_clean.index, y=data_clean[\"bollinger_20_2_hband\"], mode='lines', name='Bollinger 20,2 High Band', line=dict(color='red')))\n",
    "# fig.add_trace(go.Scatter(x=data_clean.index, y=data_clean[\"bollinger_20_2_lband\"], mode='lines', name='Bollinger 20,2 Low Band', line=dict(color='green')))\n",
    "# fig.add_trace(go.Scatter(x=data_clean.index, y=data_clean[\"bollinger_20_2_mavg\"], mode='lines', name='Bollinger 20,2 MAVG', line=dict(color='orange')))\n",
    "\n",
    "# # Graficar las Bandas de Bollinger para la configuración 10, 1.5\n",
    "# fig.add_trace(go.Scatter(x=data_clean.index, y=data_clean[\"bollinger_10_1_5_hband\"], mode='lines', name='Bollinger 10,1.5 High Band', line=dict(color='purple')))\n",
    "# fig.add_trace(go.Scatter(x=data_clean.index, y=data_clean[\"bollinger_10_1_5_lband\"], mode='lines', name='Bollinger 10,1.5 Low Band', line=dict(color='brown')))\n",
    "# fig.add_trace(go.Scatter(x=data_clean.index, y=data_clean[\"bollinger_10_1_5_mavg\"], mode='lines', name='Bollinger 10,1.5 MAVG', line=dict(color='pink')))\n",
    "\n",
    "# # Graficar las Bandas de Bollinger para la configuración 50, 2.5\n",
    "# fig.add_trace(go.Scatter(x=data_clean.index, y=data_clean[\"bollinger_50_2_5_hband\"], mode='lines', name='Bollinger 50,2.5 High Band', line=dict(color='cyan')))\n",
    "# fig.add_trace(go.Scatter(x=data_clean.index, y=data_clean[\"bollinger_50_2_5_lband\"], mode='lines', name='Bollinger 50,2.5 Low Band', line=dict(color='magenta')))\n",
    "# fig.add_trace(go.Scatter(x=data_clean.index, y=data_clean[\"bollinger_50_2_5_mavg\"], mode='lines', name='Bollinger 50,2.5 MAVG', line=dict(color='yellow')))\n",
    "\n",
    "# fig.update_layout(title='Bandas de Bollinger', xaxis_title='Fecha', yaxis_title='Precio', legend_title='Indicadores')\n",
    "# pio.show(fig)\n",
    "\n",
    "# # Graficar ATR\n",
    "# fig_atr = go.Figure()\n",
    "\n",
    "# fig_atr.add_trace(go.Scatter(x=data_clean.index, y=data_clean[\"atr_14\"], mode='lines', name='ATR 14', line=dict(color='blue')))\n",
    "# fig_atr.add_trace(go.Scatter(x=data_clean.index, y=data_clean[\"atr_10\"], mode='lines', name='ATR 10', line=dict(color='red')))\n",
    "# fig_atr.add_trace(go.Scatter(x=data_clean.index, y=data_clean[\"atr_20\"], mode='lines', name='ATR 20', line=dict(color='green')))\n",
    "\n",
    "# fig_atr.update_layout(title='Average True Range (ATR)', xaxis_title='Fecha', yaxis_title='ATR', legend_title='Indicadores')\n",
    "# pio.show(fig_atr)\n"
   ]
  },
  {
   "cell_type": "markdown",
   "id": "08721e31-e5a3-45f5-b8c4-3c2127ef26b6",
   "metadata": {},
   "source": [
    "## Continue"
   ]
  },
  {
   "cell_type": "code",
   "execution_count": 19,
   "id": "0b25cef8-44f8-4ab2-a376-1f9dca407971",
   "metadata": {
    "ExecuteTime": {
     "end_time": "2024-06-18T01:48:00.622749Z",
     "start_time": "2024-06-18T01:48:00.600734Z"
    },
    "scrolled": true
   },
   "outputs": [
    {
     "data": {
      "text/html": [
       "<div>\n",
       "<style scoped>\n",
       "    .dataframe tbody tr th:only-of-type {\n",
       "        vertical-align: middle;\n",
       "    }\n",
       "\n",
       "    .dataframe tbody tr th {\n",
       "        vertical-align: top;\n",
       "    }\n",
       "\n",
       "    .dataframe thead th {\n",
       "        text-align: right;\n",
       "    }\n",
       "</style>\n",
       "<table border=\"1\" class=\"dataframe\">\n",
       "  <thead>\n",
       "    <tr style=\"text-align: right;\">\n",
       "      <th></th>\n",
       "    </tr>\n",
       "  </thead>\n",
       "  <tbody>\n",
       "    <tr>\n",
       "      <th>49</th>\n",
       "    </tr>\n",
       "    <tr>\n",
       "      <th>50</th>\n",
       "    </tr>\n",
       "    <tr>\n",
       "      <th>51</th>\n",
       "    </tr>\n",
       "    <tr>\n",
       "      <th>52</th>\n",
       "    </tr>\n",
       "    <tr>\n",
       "      <th>53</th>\n",
       "    </tr>\n",
       "    <tr>\n",
       "      <th>...</th>\n",
       "    </tr>\n",
       "    <tr>\n",
       "      <th>31315</th>\n",
       "    </tr>\n",
       "    <tr>\n",
       "      <th>31316</th>\n",
       "    </tr>\n",
       "    <tr>\n",
       "      <th>31317</th>\n",
       "    </tr>\n",
       "    <tr>\n",
       "      <th>31318</th>\n",
       "    </tr>\n",
       "    <tr>\n",
       "      <th>31319</th>\n",
       "    </tr>\n",
       "  </tbody>\n",
       "</table>\n",
       "<p>31112 rows × 0 columns</p>\n",
       "</div>"
      ],
      "text/plain": [
       "Empty DataFrame\n",
       "Columns: []\n",
       "Index: [49, 50, 51, 52, 53, 54, 55, 56, 57, 58, 59, 60, 61, 62, 63, 64, 65, 66, 67, 68, 69, 70, 71, 72, 73, 74, 75, 76, 77, 78, 79, 80, 81, 82, 83, 84, 85, 86, 87, 88, 89, 90, 91, 92, 93, 94, 95, 96, 97, 98, 99, 100, 101, 102, 103, 104, 105, 106, 107, 108, 109, 110, 111, 112, 113, 114, 115, 116, 117, 118, 119, 120, 121, 122, 123, 124, 125, 126, 127, 128, 129, 130, 131, 132, 133, 134, 135, 136, 137, 138, 139, 140, 141, 142, 143, 144, 145, 146, 147, 148, ...]\n",
       "\n",
       "[31112 rows x 0 columns]"
      ]
     },
     "execution_count": 19,
     "metadata": {},
     "output_type": "execute_result"
    }
   ],
   "source": [
    "data_clas = data_clean.drop(\"Y\", axis=1).copy()\n",
    "\n",
    "# Filtrar solo las columnas que contienen al menos un valor NaN\n",
    "columns_with_nan = data_clas.columns[data_clas.isna().any()].tolist()\n",
    "\n",
    "# Crear un nuevo DataFrame solo con las columnas filtradas\n",
    "df_with_nan = data_clas[columns_with_nan]\n",
    "df_with_nan"
   ]
  },
  {
   "cell_type": "code",
   "execution_count": 20,
   "id": "3f9d293f-3e39-414b-b1a0-51dd311dc34b",
   "metadata": {
    "ExecuteTime": {
     "end_time": "2024-06-18T01:48:00.627619Z",
     "start_time": "2024-06-18T01:48:00.622749Z"
    }
   },
   "outputs": [],
   "source": [
    "from sklearn.metrics import confusion_matrix\n",
    "def calculate_confusion_matrix_metrics(model, X_train, y_train):\n",
    "    y_pred = model.predict(X_train)\n",
    "\n",
    "    mat = confusion_matrix(y_train, y_pred)\n",
    "    true_negatives = mat[0, 0]\n",
    "    false_negatives = mat[1, 0]\n",
    "    true_positives = mat[1, 1]\n",
    "    false_positives = mat[0, 1]\n",
    "\n",
    "    return {\n",
    "        \"confusion_matrix\": mat,\n",
    "        \"true_negatives\": true_negatives,\n",
    "        \"false_negatives\": false_negatives,\n",
    "        \"true_positives\": true_positives,\n",
    "        \"false_positives\": false_positives\n",
    "    }\n",
    "def fpr(false_positives, true_negatives):\n",
    "    return false_positives / (false_positives + true_negatives)\n"
   ]
  },
  {
   "cell_type": "markdown",
   "id": "7a1fae4b-26be-4f8a-9af6-9dfa2ef28b5a",
   "metadata": {},
   "source": [
    "## Dividimos el dataset"
   ]
  },
  {
   "cell_type": "code",
   "execution_count": 21,
   "id": "fdb6933c-75d1-48b5-a54e-a82980dfe139",
   "metadata": {
    "ExecuteTime": {
     "end_time": "2024-06-18T01:48:00.641065Z",
     "start_time": "2024-06-18T01:48:00.627619Z"
    }
   },
   "outputs": [],
   "source": [
    "data_clas[\"Y\"] = data_clas.Close < data_clas.Close.shift(-1)\n",
    "\n",
    "X_train, X_test, y_train, y_test = train_test_split(data_clas.drop(\"Y\", axis=1),\n",
    "                                                    data_clas.Y,\n",
    "                                                    shuffle=False, test_size=0.2)\n",
    "\n",
    "\n"
   ]
  },
  {
   "cell_type": "code",
   "execution_count": 22,
   "id": "9eac53cb-5fa5-494b-b8c6-eaba1ff1afca",
   "metadata": {
    "ExecuteTime": {
     "end_time": "2024-06-18T01:48:08.063416Z",
     "start_time": "2024-06-18T01:48:00.641065Z"
    },
    "scrolled": true
   },
   "outputs": [
    {
     "name": "stderr",
     "output_type": "stream",
     "text": [
      "C:\\Users\\andre\\anaconda3\\Lib\\site-packages\\sklearn\\svm\\_base.py:297: ConvergenceWarning: Solver terminated early (max_iter=10000).  Consider pre-processing your data with StandardScaler or MinMaxScaler.\n",
      "  warnings.warn(\n"
     ]
    }
   ],
   "source": [
    "classification_model = LogisticRegression().fit(X_train, y_train)\n",
    "\n",
    "logistic_pred = classification_model.predict(X_train)\n",
    "\n",
    "logistic_score = classification_model.score(X_train, y_train)\n",
    "\n",
    "\n",
    "### Classification V2\n",
    "\n",
    "\n",
    "\n",
    "ran_forest = RandomForestClassifier().fit(X_train,y_train)\n",
    "svc = SVC(C=500, max_iter=10_000).fit(X_train,y_train)\n",
    "xgb = XGBClassifier().fit(X_train,y_train)\n",
    "\n",
    "## F1 score\n",
    "\n",
    "### Regresión Lógistica\n",
    "f1_score_logistic = f1_score(y_train, classification_model.predict(X_train))\n",
    "f1_score_RanFore =  f1_score(y_train, ran_forest.predict(X_train))\n",
    "f1_score_svc = f1_score(y_train, svc.predict(X_train))\n",
    "f1_score_xgb =  f1_score(y_train, xgb.predict(X_train))\n",
    "\n",
    "\n",
    "\n",
    "metrics_svc = calculate_confusion_matrix_metrics(ran_forest, X_train, y_train)\n",
    "metrics_xgb = calculate_confusion_matrix_metrics(xgb, X_train, y_train)\n",
    "\n",
    "fpr_svc = fpr(metrics_svc[\"false_positives\"], metrics_svc[\"true_negatives\"])\n",
    "fpr_xgb = fpr(metrics_xgb[\"false_positives\"], metrics_xgb[\"true_negatives\"])\n"
   ]
  },
  {
   "cell_type": "markdown",
   "id": "944eb2cf-b430-4e5e-a4e6-0b62339b9cce",
   "metadata": {},
   "source": [
    "## Optimizando SVG"
   ]
  },
  {
   "cell_type": "code",
   "execution_count": 23,
   "id": "6d1de01a-fbe2-4714-b93d-46f3c310d571",
   "metadata": {
    "ExecuteTime": {
     "end_time": "2024-06-18T01:48:08.068428Z",
     "start_time": "2024-06-18T01:48:08.068428Z"
    }
   },
   "outputs": [
    {
     "name": "stderr",
     "output_type": "stream",
     "text": [
      "[I 2024-06-17 22:20:28,151] A new study created in memory with name: no-name-d8272e13-e9f0-4d12-a25c-de9192f71a79\n",
      "C:\\Users\\andre\\anaconda3\\Lib\\site-packages\\sklearn\\svm\\_base.py:297: ConvergenceWarning: Solver terminated early (max_iter=10000).  Consider pre-processing your data with StandardScaler or MinMaxScaler.\n",
      "  warnings.warn(\n",
      "[I 2024-06-17 22:21:26,011] Trial 0 finished with value: 0.3344338065368108 and parameters: {'C': 181.04660209838127, 'kernel': 'rbf', 'gamma': 0.19793747717047672}. Best is trial 0 with value: 0.3344338065368108.\n",
      "C:\\Users\\andre\\anaconda3\\Lib\\site-packages\\sklearn\\svm\\_base.py:297: ConvergenceWarning: Solver terminated early (max_iter=10000).  Consider pre-processing your data with StandardScaler or MinMaxScaler.\n",
      "  warnings.warn(\n",
      "[I 2024-06-17 22:21:29,044] Trial 1 finished with value: 0.998679432155827 and parameters: {'C': 2.0911962909248007, 'kernel': 'poly', 'gamma': 3.9040294196124368}. Best is trial 0 with value: 0.3344338065368108.\n",
      "C:\\Users\\andre\\anaconda3\\Lib\\site-packages\\sklearn\\svm\\_base.py:297: ConvergenceWarning: Solver terminated early (max_iter=10000).  Consider pre-processing your data with StandardScaler or MinMaxScaler.\n",
      "  warnings.warn(\n",
      "[I 2024-06-17 22:22:18,963] Trial 2 finished with value: 0.8009243974909211 and parameters: {'C': 0.035202935834442145, 'kernel': 'rbf', 'gamma': 0.010505169495862228}. Best is trial 0 with value: 0.3344338065368108.\n",
      "C:\\Users\\andre\\anaconda3\\Lib\\site-packages\\sklearn\\svm\\_base.py:297: ConvergenceWarning: Solver terminated early (max_iter=10000).  Consider pre-processing your data with StandardScaler or MinMaxScaler.\n",
      "  warnings.warn(\n",
      "[I 2024-06-17 22:23:13,794] Trial 3 finished with value: 0.2806206668867613 and parameters: {'C': 262.29984247332106, 'kernel': 'rbf', 'gamma': 0.2641841355264566}. Best is trial 3 with value: 0.2806206668867613.\n",
      "C:\\Users\\andre\\anaconda3\\Lib\\site-packages\\sklearn\\svm\\_base.py:297: ConvergenceWarning: Solver terminated early (max_iter=10000).  Consider pre-processing your data with StandardScaler or MinMaxScaler.\n",
      "  warnings.warn(\n",
      "[I 2024-06-17 22:23:27,710] Trial 4 finished with value: 0.9996698580389568 and parameters: {'C': 0.051485580208277384, 'kernel': 'linear', 'gamma': 7.826149653839996}. Best is trial 3 with value: 0.2806206668867613.\n",
      "C:\\Users\\andre\\anaconda3\\Lib\\site-packages\\sklearn\\svm\\_base.py:297: ConvergenceWarning: Solver terminated early (max_iter=10000).  Consider pre-processing your data with StandardScaler or MinMaxScaler.\n",
      "  warnings.warn(\n",
      "[I 2024-06-17 22:23:46,714] Trial 5 finished with value: 1.0 and parameters: {'C': 0.01963017666825042, 'kernel': 'linear', 'gamma': 3.6417448811653537}. Best is trial 3 with value: 0.2806206668867613.\n",
      "C:\\Users\\andre\\anaconda3\\Lib\\site-packages\\sklearn\\svm\\_base.py:297: ConvergenceWarning: Solver terminated early (max_iter=10000).  Consider pre-processing your data with StandardScaler or MinMaxScaler.\n",
      "  warnings.warn(\n",
      "[I 2024-06-17 22:24:37,955] Trial 6 finished with value: 0.32089798613403764 and parameters: {'C': 453.87004858268875, 'kernel': 'rbf', 'gamma': 0.2330791372171562}. Best is trial 3 with value: 0.2806206668867613.\n",
      "C:\\Users\\andre\\anaconda3\\Lib\\site-packages\\sklearn\\svm\\_base.py:297: ConvergenceWarning: Solver terminated early (max_iter=10000).  Consider pre-processing your data with StandardScaler or MinMaxScaler.\n",
      "  warnings.warn(\n",
      "[I 2024-06-17 22:24:41,118] Trial 7 finished with value: 0.7873885770881479 and parameters: {'C': 276.84820847292656, 'kernel': 'linear', 'gamma': 0.01651136715318296}. Best is trial 3 with value: 0.2806206668867613.\n",
      "C:\\Users\\andre\\anaconda3\\Lib\\site-packages\\sklearn\\svm\\_base.py:297: ConvergenceWarning: Solver terminated early (max_iter=10000).  Consider pre-processing your data with StandardScaler or MinMaxScaler.\n",
      "  warnings.warn(\n",
      "[I 2024-06-17 22:24:44,042] Trial 8 finished with value: 0.1696929679762298 and parameters: {'C': 0.25864135617337763, 'kernel': 'poly', 'gamma': 0.11677509831853507}. Best is trial 8 with value: 0.1696929679762298.\n",
      "C:\\Users\\andre\\anaconda3\\Lib\\site-packages\\sklearn\\svm\\_base.py:297: ConvergenceWarning: Solver terminated early (max_iter=10000).  Consider pre-processing your data with StandardScaler or MinMaxScaler.\n",
      "  warnings.warn(\n",
      "[I 2024-06-17 22:25:00,144] Trial 9 finished with value: 0.045889732585011556 and parameters: {'C': 0.03413132323546251, 'kernel': 'linear', 'gamma': 9.406849961485852}. Best is trial 9 with value: 0.045889732585011556.\n",
      "C:\\Users\\andre\\anaconda3\\Lib\\site-packages\\sklearn\\svm\\_base.py:297: ConvergenceWarning: Solver terminated early (max_iter=10000).  Consider pre-processing your data with StandardScaler or MinMaxScaler.\n",
      "  warnings.warn(\n",
      "[I 2024-06-17 22:25:03,560] Trial 10 finished with value: 0.0 and parameters: {'C': 16.444270755594978, 'kernel': 'linear', 'gamma': 1.457119962388478}. Best is trial 10 with value: 0.0.\n",
      "C:\\Users\\andre\\anaconda3\\Lib\\site-packages\\sklearn\\svm\\_base.py:297: ConvergenceWarning: Solver terminated early (max_iter=10000).  Consider pre-processing your data with StandardScaler or MinMaxScaler.\n",
      "  warnings.warn(\n",
      "[I 2024-06-17 22:25:06,910] Trial 11 finished with value: 0.03961703532518983 and parameters: {'C': 17.433651824693627, 'kernel': 'linear', 'gamma': 1.6956652533322787}. Best is trial 10 with value: 0.0.\n",
      "C:\\Users\\andre\\anaconda3\\Lib\\site-packages\\sklearn\\svm\\_base.py:297: ConvergenceWarning: Solver terminated early (max_iter=10000).  Consider pre-processing your data with StandardScaler or MinMaxScaler.\n",
      "  warnings.warn(\n",
      "[I 2024-06-17 22:25:10,190] Trial 12 finished with value: 0.6847144272036976 and parameters: {'C': 18.035906196074738, 'kernel': 'linear', 'gamma': 1.1040761258906469}. Best is trial 10 with value: 0.0.\n",
      "C:\\Users\\andre\\anaconda3\\Lib\\site-packages\\sklearn\\svm\\_base.py:297: ConvergenceWarning: Solver terminated early (max_iter=10000).  Consider pre-processing your data with StandardScaler or MinMaxScaler.\n",
      "  warnings.warn(\n",
      "[I 2024-06-17 22:25:13,495] Trial 13 finished with value: 0.0013205678441729944 and parameters: {'C': 14.014100846193324, 'kernel': 'linear', 'gamma': 0.9687007112551584}. Best is trial 10 with value: 0.0.\n",
      "C:\\Users\\andre\\anaconda3\\Lib\\site-packages\\sklearn\\svm\\_base.py:297: ConvergenceWarning: Solver terminated early (max_iter=10000).  Consider pre-processing your data with StandardScaler or MinMaxScaler.\n",
      "  warnings.warn(\n",
      "[I 2024-06-17 22:25:17,018] Trial 14 finished with value: 0.0 and parameters: {'C': 12.902302384126195, 'kernel': 'linear', 'gamma': 0.7235986253058999}. Best is trial 10 with value: 0.0.\n",
      "C:\\Users\\andre\\anaconda3\\Lib\\site-packages\\sklearn\\svm\\_base.py:297: ConvergenceWarning: Solver terminated early (max_iter=10000).  Consider pre-processing your data with StandardScaler or MinMaxScaler.\n",
      "  warnings.warn(\n",
      "[I 2024-06-17 22:25:21,708] Trial 15 finished with value: 0.006932981181908221 and parameters: {'C': 1.6290577837055764, 'kernel': 'linear', 'gamma': 0.05724471937696542}. Best is trial 10 with value: 0.0.\n",
      "C:\\Users\\andre\\anaconda3\\Lib\\site-packages\\sklearn\\svm\\_base.py:297: ConvergenceWarning: Solver terminated early (max_iter=10000).  Consider pre-processing your data with StandardScaler or MinMaxScaler.\n",
      "  warnings.warn(\n",
      "[I 2024-06-17 22:25:24,342] Trial 16 finished with value: 0.6916474083856058 and parameters: {'C': 49.0437571521787, 'kernel': 'poly', 'gamma': 0.6194715818250995}. Best is trial 10 with value: 0.0.\n",
      "C:\\Users\\andre\\anaconda3\\Lib\\site-packages\\sklearn\\svm\\_base.py:297: ConvergenceWarning: Solver terminated early (max_iter=10000).  Consider pre-processing your data with StandardScaler or MinMaxScaler.\n",
      "  warnings.warn(\n",
      "[I 2024-06-17 22:25:31,344] Trial 17 finished with value: 1.0 and parameters: {'C': 0.45073158484871073, 'kernel': 'linear', 'gamma': 0.6836828443816504}. Best is trial 10 with value: 0.0.\n",
      "C:\\Users\\andre\\anaconda3\\Lib\\site-packages\\sklearn\\svm\\_base.py:297: ConvergenceWarning: Solver terminated early (max_iter=10000).  Consider pre-processing your data with StandardScaler or MinMaxScaler.\n",
      "  warnings.warn(\n",
      "[I 2024-06-17 22:25:34,912] Trial 18 finished with value: 0.0036315615714757345 and parameters: {'C': 7.007091641852668, 'kernel': 'linear', 'gamma': 2.3039314167423783}. Best is trial 10 with value: 0.0.\n",
      "C:\\Users\\andre\\anaconda3\\Lib\\site-packages\\sklearn\\svm\\_base.py:297: ConvergenceWarning: Solver terminated early (max_iter=10000).  Consider pre-processing your data with StandardScaler or MinMaxScaler.\n",
      "  warnings.warn(\n",
      "[I 2024-06-17 22:25:37,721] Trial 19 finished with value: 0.013535820402773192 and parameters: {'C': 76.85812265378817, 'kernel': 'poly', 'gamma': 0.06837101683828199}. Best is trial 10 with value: 0.0.\n",
      "C:\\Users\\andre\\anaconda3\\Lib\\site-packages\\sklearn\\svm\\_base.py:297: ConvergenceWarning: Solver terminated early (max_iter=10000).  Consider pre-processing your data with StandardScaler or MinMaxScaler.\n",
      "  warnings.warn(\n",
      "[I 2024-06-17 22:25:44,129] Trial 20 finished with value: 1.0 and parameters: {'C': 0.5470914875778768, 'kernel': 'linear', 'gamma': 0.4650157808842616}. Best is trial 10 with value: 0.0.\n",
      "C:\\Users\\andre\\anaconda3\\Lib\\site-packages\\sklearn\\svm\\_base.py:297: ConvergenceWarning: Solver terminated early (max_iter=10000).  Consider pre-processing your data with StandardScaler or MinMaxScaler.\n",
      "  warnings.warn(\n",
      "[I 2024-06-17 22:25:47,918] Trial 21 finished with value: 1.0 and parameters: {'C': 6.959637287811435, 'kernel': 'linear', 'gamma': 1.29330052705751}. Best is trial 10 with value: 0.0.\n",
      "C:\\Users\\andre\\anaconda3\\Lib\\site-packages\\sklearn\\svm\\_base.py:297: ConvergenceWarning: Solver terminated early (max_iter=10000).  Consider pre-processing your data with StandardScaler or MinMaxScaler.\n",
      "  warnings.warn(\n",
      "[I 2024-06-17 22:25:51,208] Trial 22 finished with value: 1.0 and parameters: {'C': 38.377484112980795, 'kernel': 'linear', 'gamma': 0.9745571685859447}. Best is trial 10 with value: 0.0.\n",
      "C:\\Users\\andre\\anaconda3\\Lib\\site-packages\\sklearn\\svm\\_base.py:297: ConvergenceWarning: Solver terminated early (max_iter=10000).  Consider pre-processing your data with StandardScaler or MinMaxScaler.\n",
      "  warnings.warn(\n",
      "[I 2024-06-17 22:25:54,861] Trial 23 finished with value: 0.04159788709144932 and parameters: {'C': 6.005588587402253, 'kernel': 'linear', 'gamma': 2.819962410487451}. Best is trial 10 with value: 0.0.\n",
      "C:\\Users\\andre\\anaconda3\\Lib\\site-packages\\sklearn\\svm\\_base.py:297: ConvergenceWarning: Solver terminated early (max_iter=10000).  Consider pre-processing your data with StandardScaler or MinMaxScaler.\n",
      "  warnings.warn(\n",
      "[I 2024-06-17 22:25:58,104] Trial 24 finished with value: 0.01881809177946517 and parameters: {'C': 17.051685298003267, 'kernel': 'linear', 'gamma': 0.5709083922006479}. Best is trial 10 with value: 0.0.\n",
      "C:\\Users\\andre\\anaconda3\\Lib\\site-packages\\sklearn\\svm\\_base.py:297: ConvergenceWarning: Solver terminated early (max_iter=10000).  Consider pre-processing your data with StandardScaler or MinMaxScaler.\n",
      "  warnings.warn(\n",
      "[I 2024-06-17 22:26:01,130] Trial 25 finished with value: 0.8953449983492902 and parameters: {'C': 913.3209926215787, 'kernel': 'linear', 'gamma': 5.544567082331866}. Best is trial 10 with value: 0.0.\n",
      "C:\\Users\\andre\\anaconda3\\Lib\\site-packages\\sklearn\\svm\\_base.py:297: ConvergenceWarning: Solver terminated early (max_iter=10000).  Consider pre-processing your data with StandardScaler or MinMaxScaler.\n",
      "  warnings.warn(\n",
      "[I 2024-06-17 22:26:06,169] Trial 26 finished with value: 0.8897325850115549 and parameters: {'C': 1.1618327834662692, 'kernel': 'linear', 'gamma': 0.3801546829597383}. Best is trial 10 with value: 0.0.\n",
      "C:\\Users\\andre\\anaconda3\\Lib\\site-packages\\sklearn\\svm\\_base.py:297: ConvergenceWarning: Solver terminated early (max_iter=10000).  Consider pre-processing your data with StandardScaler or MinMaxScaler.\n",
      "  warnings.warn(\n",
      "[I 2024-06-17 22:26:09,321] Trial 27 finished with value: 1.0 and parameters: {'C': 99.2358605155882, 'kernel': 'linear', 'gamma': 1.7707735946022638}. Best is trial 10 with value: 0.0.\n",
      "C:\\Users\\andre\\anaconda3\\Lib\\site-packages\\sklearn\\svm\\_base.py:297: ConvergenceWarning: Solver terminated early (max_iter=10000).  Consider pre-processing your data with StandardScaler or MinMaxScaler.\n",
      "  warnings.warn(\n",
      "[I 2024-06-17 22:26:11,753] Trial 28 finished with value: 0.9927368768570485 and parameters: {'C': 4.160933327396771, 'kernel': 'poly', 'gamma': 0.8520092799969451}. Best is trial 10 with value: 0.0.\n",
      "C:\\Users\\andre\\anaconda3\\Lib\\site-packages\\sklearn\\svm\\_base.py:297: ConvergenceWarning: Solver terminated early (max_iter=10000).  Consider pre-processing your data with StandardScaler or MinMaxScaler.\n",
      "  warnings.warn(\n",
      "[I 2024-06-17 22:26:51,480] Trial 29 finished with value: 0.39782106305711457 and parameters: {'C': 24.385857081675333, 'kernel': 'rbf', 'gamma': 0.10335149426911627}. Best is trial 10 with value: 0.0.\n"
     ]
    },
    {
     "name": "stdout",
     "output_type": "stream",
     "text": [
      "Best trial: 10\n",
      "Best value: 0.0\n",
      "Best hyperparameters: {'C': 16.444270755594978, 'kernel': 'linear', 'gamma': 1.457119962388478}\n"
     ]
    }
   ],
   "source": [
    "# Definir la función objetivo\n",
    "def objective(trial):\n",
    "#     # Definir el rango de valores para los hiperparámetros\n",
    "    C = trial.suggest_float('C', 1e-2, 1000, log=True)\n",
    "    kernel = trial.suggest_categorical('kernel', ['linear', 'poly', 'rbf'])\n",
    "    gamma = trial.suggest_float('gamma', 1e-2, 1e1, log=True)\n",
    "    \n",
    "    # Crear el modelo SVC\n",
    "    model = SVC(C=C, kernel=kernel, gamma=gamma, max_iter=10_000)\n",
    "    \n",
    "    # Entrenar el modelo\n",
    "    model.fit(X_train, y_train)\n",
    "    \n",
    "    # Evaluar el modelo\n",
    "    y_pred = model.predict(X_test)\n",
    "     # Calculate confusion matrix\n",
    "    tn, fp, fn, tp = confusion_matrix(y_test, y_pred).ravel()\n",
    "    \n",
    "    # Calculate FPR\n",
    "    fpr = fp / (fp + tn)\n",
    "    \n",
    "    return fpr\n",
    "\n",
    "# Crear un objeto de estudio\n",
    "study = optuna.create_study(direction=\"minimize\")\n",
    "\n",
    "# Ejecutar el proceso de optimización\n",
    "study.optimize(objective, n_trials=30)\n",
    "\n",
    "\n",
    "# Mostrar los mejores parámetros\n",
    "#saved_study = optuna.load_study(study_name=study, storage=storage_url)\n",
    "#storage_url = \"sqlite:///example.db\"\n",
    "print(\"Best trial:\", study.best_trial.number)\n",
    "print(\"Best value:\", study.best_trial.value)\n",
    "print(\"Best hyperparameters:\", study.best_params)"
   ]
  },
  {
   "cell_type": "code",
   "execution_count": null,
   "id": "2f5dde16-a8ab-493d-8fdf-f5bbac887308",
   "metadata": {},
   "outputs": [],
   "source": []
  }
 ],
 "metadata": {
  "kernelspec": {
   "display_name": "Python 3 (ipykernel)",
   "language": "python",
   "name": "python3"
  },
  "language_info": {
   "codemirror_mode": {
    "name": "ipython",
    "version": 3
   },
   "file_extension": ".py",
   "mimetype": "text/x-python",
   "name": "python",
   "nbconvert_exporter": "python",
   "pygments_lexer": "ipython3",
   "version": "3.11.5"
  }
 },
 "nbformat": 4,
 "nbformat_minor": 5
}
